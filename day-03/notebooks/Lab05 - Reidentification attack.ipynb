{
 "cells": [
  {
   "cell_type": "markdown",
   "source": [
    "# Protecting against Reidentification Attacks with Differential Privacy\r\n",
    "\r\n",
    "In this notebook we show how differential privacy can be used to protect sensitive personal information against re-identification attacks. The identities of individuals might be revealed if an attacker is able to map anonymized records about individuals from a published dataset with information about these people from various sources. \r\n",
    "In this demo, the published anonymized dataset contains patient records. The attacker tries to identify individuals by leveraging basic demographic information like age and zip codes.\r\n",
    "We show that successful reidentification attacks are possible even when the sensitive data is published in an anonymized format. Then, we perform a second attack after protecting the sensitive data using a dataset synthesizer from the SmartNoise system.\r\n",
    "\r\n",
    "\r\n",
    "This demo is based on the following steps:\r\n",
    "1. Import of anonymized medical data set and the attacker's data collection\r\n",
    "2. Reidentification Attack I: Revealing identities from the anonymized data set \r\n",
    "3. Protecting the medical dataset with differential privacy using Multiple Weights Exponential Mechanism (MWEM)\r\n",
    "4. Validating the utility of the synthesized data set for statistical analyses\r\n",
    "5. Reidentification Attack II: Trying to reveal identities based on the differentially private version of the medical data set"
   ],
   "metadata": {}
  },
  {
   "cell_type": "code",
   "execution_count": 1,
   "source": [
    "# Install required libraries, uncomment if needed\r\n",
    "# %pip install git+https://github.com/opendifferentialprivacy/smartnoise-sdk#subdirectory=sdk\r\n",
    "# %pip install faker zipcodes tqdm opendp-smartnoise\r\n",
    "!pip install z3-solver==4.8.9.0"
   ],
   "outputs": [
    {
     "output_type": "stream",
     "name": "stdout",
     "text": [
      "Collecting z3-solver==4.8.9.0"
     ]
    },
    {
     "output_type": "stream",
     "name": "stderr",
     "text": [
      "WARNING: You are using pip version 21.1.1; however, version 21.2.4 is available.\n",
      "You should consider upgrading via the 'd:\\repos\\opendp-smartnoise-samples\\.venv\\scripts\\python.exe -m pip install --upgrade pip' command.\n"
     ]
    },
    {
     "output_type": "stream",
     "name": "stdout",
     "text": [
      "\n",
      "  Downloading z3_solver-4.8.9.0-py2.py3-none-win_amd64.whl (33.9 MB)\n",
      "Installing collected packages: z3-solver\n",
      "Successfully installed z3-solver-4.8.9.0\n"
     ]
    }
   ],
   "metadata": {
    "gather": {
     "logged": 1607612123889
    }
   }
  },
  {
   "cell_type": "code",
   "execution_count": 11,
   "source": [
    "import warnings\r\n",
    "warnings.filterwarnings(\"ignore\")\r\n",
    "\r\n",
    "import logging\r\n",
    "logger = logging.getLogger()\r\n",
    "logger.setLevel(logging.INFO)\r\n",
    "import pandas as pd\r\n",
    "import numpy as np\r\n",
    "import random\r\n",
    "import string\r\n",
    "import uuid\r\n",
    "import time\r\n",
    "import logging\r\n",
    "from datetime import datetime\r\n",
    "import matplotlib.pyplot as plt\r\n",
    "from tqdm import tqdm\r\n",
    "import reident_tools as reident\r\n",
    "from opendp.smartnoise.synthesizers.mwem import MWEMSynthesizer\r\n",
    "\r\n",
    "%config InlineBackend.figure_format = 'retina'\r\n",
    "%load_ext autoreload\r\n",
    "%autoreload 2"
   ],
   "outputs": [],
   "metadata": {
    "gather": {
     "logged": 1607612125078
    }
   }
  },
  {
   "cell_type": "markdown",
   "source": [
    "## Import data sets\n",
    "Below, we are going to import three data sets:\n",
    "1. Public medical data set, containing k-anonymized demographic and sensitive medical information\n",
    "2. Attacker's data collection with basic demographic information\n",
    "3. Public medical data set preprocessed for the MWEM synthesizer"
   ],
   "metadata": {}
  },
  {
   "cell_type": "code",
   "execution_count": 12,
   "source": [
    "# Read files\r\n",
    "df_medical = pd.read_csv('data/data_medical.csv', sep=\",\", encoding=\"utf-8\").infer_objects()\r\n",
    "df_medical['Zip'] = df_medical['Zip'].astype(str)\r\n",
    "print('Anonymized dataset including sensitive medical information:')\r\n",
    "display(df_medical.iloc[:,1:].sample(8))\r\n",
    "df_demographic = pd.read_csv('data/data_demographic.csv', sep=\",\", encoding=\"utf-8\").infer_objects()\r\n",
    "print('Attacker`s data collection with basic demographic information:')\r\n",
    "df_demographic['Zip'] = df_demographic['Zip'].astype(str)\r\n",
    "display(df_demographic.iloc[:,1:].sample(8))\r\n",
    "df_medical_synth = pd.read_csv('data/data_medical_synthesizer.csv', sep=\",\", encoding=\"utf-8\").infer_objects()\r\n",
    "df_medical_synth['Zip'] = df_medical_synth['Zip'].astype(str)"
   ],
   "outputs": [
    {
     "output_type": "stream",
     "name": "stdout",
     "text": [
      "Anonymized dataset including sensitive medical information:\n"
     ]
    },
    {
     "output_type": "display_data",
     "data": {
      "text/html": [
       "<div>\n",
       "<style scoped>\n",
       "    .dataframe tbody tr th:only-of-type {\n",
       "        vertical-align: middle;\n",
       "    }\n",
       "\n",
       "    .dataframe tbody tr th {\n",
       "        vertical-align: top;\n",
       "    }\n",
       "\n",
       "    .dataframe thead th {\n",
       "        text-align: right;\n",
       "    }\n",
       "</style>\n",
       "<table border=\"1\" class=\"dataframe\">\n",
       "  <thead>\n",
       "    <tr style=\"text-align: right;\">\n",
       "      <th></th>\n",
       "      <th>Gender</th>\n",
       "      <th>Age</th>\n",
       "      <th>Zip</th>\n",
       "      <th>Diagnosis</th>\n",
       "      <th>Treatment</th>\n",
       "      <th>Outcome</th>\n",
       "    </tr>\n",
       "  </thead>\n",
       "  <tbody>\n",
       "    <tr>\n",
       "      <th>20136</th>\n",
       "      <td>F</td>\n",
       "      <td>70-79</td>\n",
       "      <td>700**</td>\n",
       "      <td>Osteoporosis</td>\n",
       "      <td>26</td>\n",
       "      <td>recovered</td>\n",
       "    </tr>\n",
       "    <tr>\n",
       "      <th>10498</th>\n",
       "      <td>F</td>\n",
       "      <td>40-49</td>\n",
       "      <td>888**</td>\n",
       "      <td>Cancer</td>\n",
       "      <td>28</td>\n",
       "      <td>recovered</td>\n",
       "    </tr>\n",
       "    <tr>\n",
       "      <th>10915</th>\n",
       "      <td>M</td>\n",
       "      <td>60-69</td>\n",
       "      <td>862**</td>\n",
       "      <td>Osteoporosis</td>\n",
       "      <td>20</td>\n",
       "      <td>intensive care</td>\n",
       "    </tr>\n",
       "    <tr>\n",
       "      <th>2622</th>\n",
       "      <td>M</td>\n",
       "      <td>20-29</td>\n",
       "      <td>888**</td>\n",
       "      <td>COPD</td>\n",
       "      <td>46</td>\n",
       "      <td>recovered</td>\n",
       "    </tr>\n",
       "    <tr>\n",
       "      <th>16521</th>\n",
       "      <td>M</td>\n",
       "      <td>30-39</td>\n",
       "      <td>824**</td>\n",
       "      <td>Osteoporosis</td>\n",
       "      <td>24</td>\n",
       "      <td>unchanged</td>\n",
       "    </tr>\n",
       "    <tr>\n",
       "      <th>240</th>\n",
       "      <td>F</td>\n",
       "      <td>20-29</td>\n",
       "      <td>660**</td>\n",
       "      <td>High Blood Pressure</td>\n",
       "      <td>27</td>\n",
       "      <td>intensive care</td>\n",
       "    </tr>\n",
       "    <tr>\n",
       "      <th>5321</th>\n",
       "      <td>F</td>\n",
       "      <td>80-89</td>\n",
       "      <td>165**</td>\n",
       "      <td>Osteoporosis</td>\n",
       "      <td>28</td>\n",
       "      <td>recovered</td>\n",
       "    </tr>\n",
       "    <tr>\n",
       "      <th>28545</th>\n",
       "      <td>M</td>\n",
       "      <td>80-89</td>\n",
       "      <td>110**</td>\n",
       "      <td>High Blood Pressure</td>\n",
       "      <td>42</td>\n",
       "      <td>intensive care</td>\n",
       "    </tr>\n",
       "  </tbody>\n",
       "</table>\n",
       "</div>"
      ],
      "text/plain": [
       "      Gender    Age    Zip            Diagnosis  Treatment         Outcome\n",
       "20136      F  70-79  700**         Osteoporosis         26       recovered\n",
       "10498      F  40-49  888**               Cancer         28       recovered\n",
       "10915      M  60-69  862**         Osteoporosis         20  intensive care\n",
       "2622       M  20-29  888**                 COPD         46       recovered\n",
       "16521      M  30-39  824**         Osteoporosis         24       unchanged\n",
       "240        F  20-29  660**  High Blood Pressure         27  intensive care\n",
       "5321       F  80-89  165**         Osteoporosis         28       recovered\n",
       "28545      M  80-89  110**  High Blood Pressure         42  intensive care"
      ]
     },
     "metadata": {}
    },
    {
     "output_type": "stream",
     "name": "stdout",
     "text": [
      "Attacker`s data collection with basic demographic information:\n"
     ]
    },
    {
     "output_type": "display_data",
     "data": {
      "text/html": [
       "<div>\n",
       "<style scoped>\n",
       "    .dataframe tbody tr th:only-of-type {\n",
       "        vertical-align: middle;\n",
       "    }\n",
       "\n",
       "    .dataframe tbody tr th {\n",
       "        vertical-align: top;\n",
       "    }\n",
       "\n",
       "    .dataframe thead th {\n",
       "        text-align: right;\n",
       "    }\n",
       "</style>\n",
       "<table border=\"1\" class=\"dataframe\">\n",
       "  <thead>\n",
       "    <tr style=\"text-align: right;\">\n",
       "      <th></th>\n",
       "      <th>Name</th>\n",
       "      <th>Gender</th>\n",
       "      <th>Age</th>\n",
       "      <th>Zip</th>\n",
       "    </tr>\n",
       "  </thead>\n",
       "  <tbody>\n",
       "    <tr>\n",
       "      <th>19894</th>\n",
       "      <td>Kelli Li</td>\n",
       "      <td>F</td>\n",
       "      <td>61</td>\n",
       "      <td>81294</td>\n",
       "    </tr>\n",
       "    <tr>\n",
       "      <th>12317</th>\n",
       "      <td>Robert Walker</td>\n",
       "      <td>M</td>\n",
       "      <td>20</td>\n",
       "      <td>96753</td>\n",
       "    </tr>\n",
       "    <tr>\n",
       "      <th>27357</th>\n",
       "      <td>Christine Martinez</td>\n",
       "      <td>F</td>\n",
       "      <td>80</td>\n",
       "      <td>77331</td>\n",
       "    </tr>\n",
       "    <tr>\n",
       "      <th>1235</th>\n",
       "      <td>Jill Wright</td>\n",
       "      <td>F</td>\n",
       "      <td>78</td>\n",
       "      <td>49974</td>\n",
       "    </tr>\n",
       "    <tr>\n",
       "      <th>12343</th>\n",
       "      <td>Gary Joseph</td>\n",
       "      <td>M</td>\n",
       "      <td>25</td>\n",
       "      <td>60531</td>\n",
       "    </tr>\n",
       "    <tr>\n",
       "      <th>16709</th>\n",
       "      <td>John Webb</td>\n",
       "      <td>M</td>\n",
       "      <td>50</td>\n",
       "      <td>70314</td>\n",
       "    </tr>\n",
       "    <tr>\n",
       "      <th>24723</th>\n",
       "      <td>Kristen Blake DVM</td>\n",
       "      <td>F</td>\n",
       "      <td>85</td>\n",
       "      <td>65063</td>\n",
       "    </tr>\n",
       "    <tr>\n",
       "      <th>11360</th>\n",
       "      <td>William Mccall</td>\n",
       "      <td>M</td>\n",
       "      <td>52</td>\n",
       "      <td>23915</td>\n",
       "    </tr>\n",
       "  </tbody>\n",
       "</table>\n",
       "</div>"
      ],
      "text/plain": [
       "                     Name Gender  Age    Zip\n",
       "19894            Kelli Li      F   61  81294\n",
       "12317       Robert Walker      M   20  96753\n",
       "27357  Christine Martinez      F   80  77331\n",
       "1235          Jill Wright      F   78  49974\n",
       "12343         Gary Joseph      M   25  60531\n",
       "16709           John Webb      M   50  70314\n",
       "24723   Kristen Blake DVM      F   85  65063\n",
       "11360      William Mccall      M   52  23915"
      ]
     },
     "metadata": {}
    }
   ],
   "metadata": {
    "gather": {
     "logged": 1607612125572
    }
   }
  },
  {
   "cell_type": "markdown",
   "source": [
    "Above data sets also include a unique id for each record which is used to be able to count the number of identified records after the attack. This information is not used for performing the attack. "
   ],
   "metadata": {}
  },
  {
   "cell_type": "markdown",
   "source": [
    "## Reidentification Attack I - Revealing identities from the anonymized data set\n",
    "Below, we perform the first reidentification attack usind the `try_reidentification` function. As input, we use the data sets generated above (published medical and demographic data)."
   ],
   "metadata": {}
  },
  {
   "cell_type": "markdown",
   "source": [
    "### Perform the attack\n",
    "Now, we perform the reidentification attack with the demographic and the medical data set, using a combinatorial approach."
   ],
   "metadata": {}
  },
  {
   "cell_type": "code",
   "execution_count": 13,
   "source": [
    "%%time\r\n",
    "reident_attack = reident.try_reidentification(df_demographic, df_medical, logger)"
   ],
   "outputs": [
    {
     "output_type": "stream",
     "name": "stderr",
     "text": [
      "INFO:root:Performing reidentification with anonymized data: 30000. Attacker collection: 30000\n",
      "100%|██████████| 30000/30000 [04:38<00:00, 107.74it/s]\n",
      "INFO:root:Identified 28962 potential matches!\n",
      "INFO:root:Validating IDs ...\n",
      "100%|██████████| 28962/28962 [00:00<00:00, 32539.02it/s]\n",
      "INFO:root:Identified 9069 actual (validated) matches!\n"
     ]
    },
    {
     "output_type": "stream",
     "name": "stdout",
     "text": [
      "Wall time: 4min 39s\n"
     ]
    }
   ],
   "metadata": {}
  },
  {
   "cell_type": "markdown",
   "source": [
    "### Results of the attack\n",
    "Below, we show the amount of potential and actual matches and provide a glance at the data."
   ],
   "metadata": {}
  },
  {
   "cell_type": "code",
   "execution_count": 14,
   "source": [
    "print(f'Found: {len(reident_attack[reident_attack[\"ID_Match\"]==True])} actual (validated) matches!')"
   ],
   "outputs": [
    {
     "output_type": "stream",
     "name": "stdout",
     "text": [
      "Found: 9069 actual (validated) matches!\n"
     ]
    }
   ],
   "metadata": {
    "gather": {
     "logged": 1607612734993
    }
   }
  },
  {
   "cell_type": "code",
   "execution_count": 6,
   "source": [
    "# Write to file, if wanted\r\n",
    "# reident_attack.to_csv('data/results_reident-attack-raw.csv', sep=\",\", encoding=\"utf-8\", index=False)\r\n",
    "# Or read files, if needed\r\n",
    "# reident_attack = pd.read_csv('data/results_reident-attack-raw.csv', sep=\",\", encoding=\"utf-8\")"
   ],
   "outputs": [],
   "metadata": {
    "gather": {
     "logged": 1607612735291
    }
   }
  },
  {
   "cell_type": "code",
   "execution_count": 15,
   "source": [
    "# Get sample from the data set\r\n",
    "print(f'Sample of re-identified patients:')\r\n",
    "reident_attack[reident_attack[\"ID_Match\"]==True][['Name', 'Gender', 'Age', 'Zip', 'Diagnosis', 'Treatment', 'Outcome', 'ID_Match']].sample(10)"
   ],
   "outputs": [
    {
     "output_type": "stream",
     "name": "stdout",
     "text": [
      "Sample of re-identified patients:\n"
     ]
    },
    {
     "output_type": "execute_result",
     "data": {
      "text/html": [
       "<div>\n",
       "<style scoped>\n",
       "    .dataframe tbody tr th:only-of-type {\n",
       "        vertical-align: middle;\n",
       "    }\n",
       "\n",
       "    .dataframe tbody tr th {\n",
       "        vertical-align: top;\n",
       "    }\n",
       "\n",
       "    .dataframe thead th {\n",
       "        text-align: right;\n",
       "    }\n",
       "</style>\n",
       "<table border=\"1\" class=\"dataframe\">\n",
       "  <thead>\n",
       "    <tr style=\"text-align: right;\">\n",
       "      <th></th>\n",
       "      <th>Name</th>\n",
       "      <th>Gender</th>\n",
       "      <th>Age</th>\n",
       "      <th>Zip</th>\n",
       "      <th>Diagnosis</th>\n",
       "      <th>Treatment</th>\n",
       "      <th>Outcome</th>\n",
       "      <th>ID_Match</th>\n",
       "    </tr>\n",
       "  </thead>\n",
       "  <tbody>\n",
       "    <tr>\n",
       "      <th>17350</th>\n",
       "      <td>Elizabeth Olson MD</td>\n",
       "      <td>F</td>\n",
       "      <td>76</td>\n",
       "      <td>23288</td>\n",
       "      <td>Alzheimer</td>\n",
       "      <td>35</td>\n",
       "      <td>unchanged</td>\n",
       "      <td>True</td>\n",
       "    </tr>\n",
       "    <tr>\n",
       "      <th>25378</th>\n",
       "      <td>Kelly Sullivan</td>\n",
       "      <td>F</td>\n",
       "      <td>67</td>\n",
       "      <td>81990</td>\n",
       "      <td>Heart Disease</td>\n",
       "      <td>38</td>\n",
       "      <td>recovered</td>\n",
       "      <td>True</td>\n",
       "    </tr>\n",
       "    <tr>\n",
       "      <th>12580</th>\n",
       "      <td>Lauren Graham</td>\n",
       "      <td>F</td>\n",
       "      <td>68</td>\n",
       "      <td>71815</td>\n",
       "      <td>Heart Disease</td>\n",
       "      <td>47</td>\n",
       "      <td>recovered</td>\n",
       "      <td>True</td>\n",
       "    </tr>\n",
       "    <tr>\n",
       "      <th>6797</th>\n",
       "      <td>Mario Davis</td>\n",
       "      <td>M</td>\n",
       "      <td>47</td>\n",
       "      <td>36458</td>\n",
       "      <td>Diabetes</td>\n",
       "      <td>35</td>\n",
       "      <td>unchanged</td>\n",
       "      <td>True</td>\n",
       "    </tr>\n",
       "    <tr>\n",
       "      <th>22340</th>\n",
       "      <td>Melissa Kelley</td>\n",
       "      <td>F</td>\n",
       "      <td>39</td>\n",
       "      <td>31550</td>\n",
       "      <td>High Blood Pressure</td>\n",
       "      <td>41</td>\n",
       "      <td>recovered</td>\n",
       "      <td>True</td>\n",
       "    </tr>\n",
       "    <tr>\n",
       "      <th>29380</th>\n",
       "      <td>Karen Brown</td>\n",
       "      <td>F</td>\n",
       "      <td>21</td>\n",
       "      <td>82891</td>\n",
       "      <td>Diabetes</td>\n",
       "      <td>34</td>\n",
       "      <td>unchanged</td>\n",
       "      <td>True</td>\n",
       "    </tr>\n",
       "    <tr>\n",
       "      <th>9880</th>\n",
       "      <td>Bridget Knapp</td>\n",
       "      <td>F</td>\n",
       "      <td>45</td>\n",
       "      <td>17335</td>\n",
       "      <td>Heart Disease</td>\n",
       "      <td>41</td>\n",
       "      <td>recovered</td>\n",
       "      <td>True</td>\n",
       "    </tr>\n",
       "    <tr>\n",
       "      <th>15632</th>\n",
       "      <td>Katelyn Carlson</td>\n",
       "      <td>F</td>\n",
       "      <td>81</td>\n",
       "      <td>29142</td>\n",
       "      <td>High Blood Pressure</td>\n",
       "      <td>44</td>\n",
       "      <td>unchanged</td>\n",
       "      <td>True</td>\n",
       "    </tr>\n",
       "    <tr>\n",
       "      <th>22165</th>\n",
       "      <td>Andrew Anderson</td>\n",
       "      <td>M</td>\n",
       "      <td>28</td>\n",
       "      <td>44236</td>\n",
       "      <td>High Blood Pressure</td>\n",
       "      <td>43</td>\n",
       "      <td>recovered</td>\n",
       "      <td>True</td>\n",
       "    </tr>\n",
       "    <tr>\n",
       "      <th>21189</th>\n",
       "      <td>Maureen Mayer</td>\n",
       "      <td>F</td>\n",
       "      <td>11</td>\n",
       "      <td>87949</td>\n",
       "      <td>COPD</td>\n",
       "      <td>43</td>\n",
       "      <td>unchanged</td>\n",
       "      <td>True</td>\n",
       "    </tr>\n",
       "  </tbody>\n",
       "</table>\n",
       "</div>"
      ],
      "text/plain": [
       "                     Name Gender Age    Zip            Diagnosis Treatment  \\\n",
       "17350  Elizabeth Olson MD      F  76  23288            Alzheimer        35   \n",
       "25378      Kelly Sullivan      F  67  81990        Heart Disease        38   \n",
       "12580       Lauren Graham      F  68  71815        Heart Disease        47   \n",
       "6797          Mario Davis      M  47  36458             Diabetes        35   \n",
       "22340      Melissa Kelley      F  39  31550  High Blood Pressure        41   \n",
       "29380         Karen Brown      F  21  82891             Diabetes        34   \n",
       "9880        Bridget Knapp      F  45  17335        Heart Disease        41   \n",
       "15632     Katelyn Carlson      F  81  29142  High Blood Pressure        44   \n",
       "22165     Andrew Anderson      M  28  44236  High Blood Pressure        43   \n",
       "21189       Maureen Mayer      F  11  87949                 COPD        43   \n",
       "\n",
       "         Outcome  ID_Match  \n",
       "17350  unchanged      True  \n",
       "25378  recovered      True  \n",
       "12580  recovered      True  \n",
       "6797   unchanged      True  \n",
       "22340  recovered      True  \n",
       "29380  unchanged      True  \n",
       "9880   recovered      True  \n",
       "15632  unchanged      True  \n",
       "22165  recovered      True  \n",
       "21189  unchanged      True  "
      ]
     },
     "metadata": {},
     "execution_count": 15
    }
   ],
   "metadata": {
    "gather": {
     "logged": 1607612735442
    }
   }
  },
  {
   "cell_type": "markdown",
   "source": [
    "## Protecting the medical dataset with differential privacy\n",
    "In the next step, we are going to synthesize the data set to increase the level of protection. We will use the Multiple Weights Exponential Mechanism (MWEM) synthesizer for this purpose and encode the demographic data (gender, age, zip) and the diagnosis. The other variables (treatment, outcome) are not part of the analysis for now."
   ],
   "metadata": {}
  },
  {
   "cell_type": "code",
   "execution_count": 16,
   "source": [
    "# Prepare data set for reidentification, using the medical data set and the full zip copied from the demographic set\r\n",
    "df_reident_synth = df_medical[['Gender', 'Age', 'Zip', 'Diagnosis', 'Treatment', 'Outcome']].copy()\r\n",
    "df_reident_synth['Zip'] = df_demographic['Zip'].copy()\r\n",
    "df_reident_synth['Age'] = df_demographic['Age'].copy()\r\n",
    "# Write to file, if wanted\r\n",
    "# df_reident_synth.to_csv('data/data_reidentification_synthesizer.csv', sep=\",\", encoding=\"utf-8\", index=False)"
   ],
   "outputs": [],
   "metadata": {
    "gather": {
     "logged": 1607612125918
    }
   }
  },
  {
   "cell_type": "markdown",
   "source": [
    "### Encoding of data\n",
    "For this purpose, we encode the input data using the `do_encode`-function to make it compatible with the MWEM synthesizer."
   ],
   "metadata": {}
  },
  {
   "cell_type": "code",
   "execution_count": 17,
   "source": [
    "# Have a quick glance at the data\r\n",
    "df_reident_synth.head()"
   ],
   "outputs": [
    {
     "output_type": "execute_result",
     "data": {
      "text/html": [
       "<div>\n",
       "<style scoped>\n",
       "    .dataframe tbody tr th:only-of-type {\n",
       "        vertical-align: middle;\n",
       "    }\n",
       "\n",
       "    .dataframe tbody tr th {\n",
       "        vertical-align: top;\n",
       "    }\n",
       "\n",
       "    .dataframe thead th {\n",
       "        text-align: right;\n",
       "    }\n",
       "</style>\n",
       "<table border=\"1\" class=\"dataframe\">\n",
       "  <thead>\n",
       "    <tr style=\"text-align: right;\">\n",
       "      <th></th>\n",
       "      <th>Gender</th>\n",
       "      <th>Age</th>\n",
       "      <th>Zip</th>\n",
       "      <th>Diagnosis</th>\n",
       "      <th>Treatment</th>\n",
       "      <th>Outcome</th>\n",
       "    </tr>\n",
       "  </thead>\n",
       "  <tbody>\n",
       "    <tr>\n",
       "      <th>0</th>\n",
       "      <td>F</td>\n",
       "      <td>10</td>\n",
       "      <td>65418</td>\n",
       "      <td>High Blood Pressure</td>\n",
       "      <td>25</td>\n",
       "      <td>intensive care</td>\n",
       "    </tr>\n",
       "    <tr>\n",
       "      <th>1</th>\n",
       "      <td>F</td>\n",
       "      <td>14</td>\n",
       "      <td>65475</td>\n",
       "      <td>COPD</td>\n",
       "      <td>48</td>\n",
       "      <td>unchanged</td>\n",
       "    </tr>\n",
       "    <tr>\n",
       "      <th>2</th>\n",
       "      <td>F</td>\n",
       "      <td>10</td>\n",
       "      <td>65484</td>\n",
       "      <td>High Blood Pressure</td>\n",
       "      <td>38</td>\n",
       "      <td>intensive care</td>\n",
       "    </tr>\n",
       "    <tr>\n",
       "      <th>3</th>\n",
       "      <td>F</td>\n",
       "      <td>30</td>\n",
       "      <td>27727</td>\n",
       "      <td>Heart Disease</td>\n",
       "      <td>31</td>\n",
       "      <td>unchanged</td>\n",
       "    </tr>\n",
       "    <tr>\n",
       "      <th>4</th>\n",
       "      <td>F</td>\n",
       "      <td>36</td>\n",
       "      <td>27772</td>\n",
       "      <td>Diabetes</td>\n",
       "      <td>34</td>\n",
       "      <td>unchanged</td>\n",
       "    </tr>\n",
       "  </tbody>\n",
       "</table>\n",
       "</div>"
      ],
      "text/plain": [
       "  Gender  Age    Zip            Diagnosis  Treatment         Outcome\n",
       "0      F   10  65418  High Blood Pressure         25  intensive care\n",
       "1      F   14  65475                 COPD         48       unchanged\n",
       "2      F   10  65484  High Blood Pressure         38  intensive care\n",
       "3      F   30  27727        Heart Disease         31       unchanged\n",
       "4      F   36  27772             Diabetes         34       unchanged"
      ]
     },
     "metadata": {},
     "execution_count": 17
    }
   ],
   "metadata": {
    "gather": {
     "logged": 1607612943336
    }
   }
  },
  {
   "cell_type": "code",
   "execution_count": 18,
   "source": [
    "# Encode the data set and display it\r\n",
    "df_reident_encoded = reident.do_encode(df_reident_synth, ['Gender', 'Age', 'Zip', 'Diagnosis'], reident.diseases)\r\n",
    "df_reident_encoded.head()"
   ],
   "outputs": [
    {
     "output_type": "execute_result",
     "data": {
      "text/html": [
       "<div>\n",
       "<style scoped>\n",
       "    .dataframe tbody tr th:only-of-type {\n",
       "        vertical-align: middle;\n",
       "    }\n",
       "\n",
       "    .dataframe tbody tr th {\n",
       "        vertical-align: top;\n",
       "    }\n",
       "\n",
       "    .dataframe thead th {\n",
       "        text-align: right;\n",
       "    }\n",
       "</style>\n",
       "<table border=\"1\" class=\"dataframe\">\n",
       "  <thead>\n",
       "    <tr style=\"text-align: right;\">\n",
       "      <th></th>\n",
       "      <th>Gender_encoded</th>\n",
       "      <th>Age_encoded</th>\n",
       "      <th>Zip_encoded</th>\n",
       "      <th>Diagnosis_encoded</th>\n",
       "    </tr>\n",
       "  </thead>\n",
       "  <tbody>\n",
       "    <tr>\n",
       "      <th>0</th>\n",
       "      <td>0</td>\n",
       "      <td>10</td>\n",
       "      <td>65418</td>\n",
       "      <td>9</td>\n",
       "    </tr>\n",
       "    <tr>\n",
       "      <th>1</th>\n",
       "      <td>0</td>\n",
       "      <td>14</td>\n",
       "      <td>65475</td>\n",
       "      <td>2</td>\n",
       "    </tr>\n",
       "    <tr>\n",
       "      <th>2</th>\n",
       "      <td>0</td>\n",
       "      <td>10</td>\n",
       "      <td>65484</td>\n",
       "      <td>9</td>\n",
       "    </tr>\n",
       "    <tr>\n",
       "      <th>3</th>\n",
       "      <td>0</td>\n",
       "      <td>30</td>\n",
       "      <td>27727</td>\n",
       "      <td>7</td>\n",
       "    </tr>\n",
       "    <tr>\n",
       "      <th>4</th>\n",
       "      <td>0</td>\n",
       "      <td>36</td>\n",
       "      <td>27772</td>\n",
       "      <td>3</td>\n",
       "    </tr>\n",
       "  </tbody>\n",
       "</table>\n",
       "</div>"
      ],
      "text/plain": [
       "   Gender_encoded  Age_encoded  Zip_encoded  Diagnosis_encoded\n",
       "0               0           10        65418                  9\n",
       "1               0           14        65475                  2\n",
       "2               0           10        65484                  9\n",
       "3               0           30        27727                  7\n",
       "4               0           36        27772                  3"
      ]
     },
     "metadata": {},
     "execution_count": 18
    }
   ],
   "metadata": {
    "gather": {
     "logged": 1607612945589
    }
   }
  },
  {
   "cell_type": "markdown",
   "source": [
    "### Synthesizing the demographic data\n",
    "Finally, we synthesize the data with the MWEM synthesizer. Here are some considerations regarding the parameters:\n",
    "- `Q_count` Should be higher than the number of iterations (at least 5 and 10 times the number of iterations). Default is 400.\n",
    "- `epsilon`The privacy parameter. 3.0 is a good starting points. Lower values correspond to a higher levels of privacy.\n",
    "- `iterations` Comparable to epochs in deep learning. Between 30 and 60. Fewer iterations means that the budget is used more efficiently. Default is 30.\n",
    "- `mult_weights_iterations` Should be less than number of total iterations (usually between 5 and 50). Default is 20.\n",
    "- `splits` MWEM will automatically split the features with split factor if this field isn’t specified. This field overrides split_factor, and creates custom user specified splits of features i.e. for a set with 5 features, [[0,3],[1,2,4]] (implies that features 0 and 3 are correlated, and features 1,2 and 4 are correlated).\n",
    "- `split_factor` Choose highest split factor without affecting performance. Start with number of features, then subdivide by 2 (round up)."
   ],
   "metadata": {}
  },
  {
   "cell_type": "code",
   "execution_count": 19,
   "source": [
    "%%time\r\n",
    "# Apply the synthesizer to the data set\r\n",
    "synthetic_data = MWEMSynthesizer(q_count = 400,\r\n",
    "                        epsilon = 3.00,\r\n",
    "                        iterations = 60,\r\n",
    "                        mult_weights_iterations = 40,\r\n",
    "                        splits = [],\r\n",
    "                        split_factor = 1)\r\n",
    "synthetic_data.fit(df_reident_encoded.to_numpy())"
   ],
   "outputs": [
    {
     "output_type": "stream",
     "name": "stdout",
     "text": [
      "Wall time: 5.99 s\n"
     ]
    }
   ],
   "metadata": {}
  },
  {
   "cell_type": "code",
   "execution_count": 20,
   "source": [
    "%%time\r\n",
    "# Convert to dataframe\r\n",
    "df_synthesized = pd.DataFrame(synthetic_data.sample(int(df_reident_encoded.shape[0])), columns=df_reident_encoded.columns)"
   ],
   "outputs": [
    {
     "output_type": "stream",
     "name": "stdout",
     "text": [
      "Wall time: 2.34 s\n"
     ]
    }
   ],
   "metadata": {}
  },
  {
   "cell_type": "code",
   "execution_count": 13,
   "source": [
    "# Write it to file, if wanted\r\n",
    "# df_synthesized.to_csv('data/data_synthesized.csv', sep=\",\", encoding=\"utf-8\", index=False)"
   ],
   "outputs": [],
   "metadata": {
    "gather": {
     "logged": 1607616212916
    }
   }
  },
  {
   "cell_type": "markdown",
   "source": [
    "### Compare original and synthetic data\n",
    "Below, we are going to use the `create_histogram` function to illustrate the __diagnoses__ distribution of both data sets. \n",
    "Ideally, the bars for each diagnosis do not differ too much from each other. The more similar the bars are for the respective disease, the less information is lost during the synthetization process."
   ],
   "metadata": {}
  },
  {
   "cell_type": "code",
   "execution_count": 21,
   "source": [
    "reident.create_histogram(df_reident_encoded, df_synthesized, 'Diagnosis_encoded', reident.diseases)"
   ],
   "outputs": [
    {
     "output_type": "display_data",
     "data": {
      "image/png": "[encoded data removed]",
      "text/plain": [
       "<Figure size 1080x576 with 1 Axes>"
      ]
     },
     "metadata": {
      "image/png": {
       "width": 912,
       "height": 485
      },
      "needs_background": "light"
     }
    }
   ],
   "metadata": {
    "gather": {
     "logged": 1607616213410
    }
   }
  },
  {
   "cell_type": "markdown",
   "source": [
    "## Reidentification Attack II - Synthesized Demographic Data + Public Medical Data (non-grouped)\n",
    "Finally, we try the re-identification attack on the synthesized data using the `try_reidentification_noise`-function.\n",
    "As stated above, the synthesized data set has new combinations of demographic data, so we do not deal with the _raw/real_ data any more. While it is possible that a potential match is detected, it is unlikely that we deal with an actual match here."
   ],
   "metadata": {}
  },
  {
   "cell_type": "code",
   "execution_count": 22,
   "source": [
    "print('Medical Dataset:')\r\n",
    "display(df_medical_synth.sample(5))\r\n",
    "print('\\nSynthesized Demographic Dataset:')\r\n",
    "display(df_synthesized.sample(5))"
   ],
   "outputs": [
    {
     "output_type": "stream",
     "name": "stdout",
     "text": [
      "Medical Dataset:\n"
     ]
    },
    {
     "output_type": "display_data",
     "data": {
      "text/html": [
       "<div>\n",
       "<style scoped>\n",
       "    .dataframe tbody tr th:only-of-type {\n",
       "        vertical-align: middle;\n",
       "    }\n",
       "\n",
       "    .dataframe tbody tr th {\n",
       "        vertical-align: top;\n",
       "    }\n",
       "\n",
       "    .dataframe thead th {\n",
       "        text-align: right;\n",
       "    }\n",
       "</style>\n",
       "<table border=\"1\" class=\"dataframe\">\n",
       "  <thead>\n",
       "    <tr style=\"text-align: right;\">\n",
       "      <th></th>\n",
       "      <th>ID</th>\n",
       "      <th>Gender</th>\n",
       "      <th>Age</th>\n",
       "      <th>Zip</th>\n",
       "      <th>Diagnosis</th>\n",
       "      <th>Treatment</th>\n",
       "      <th>Outcome</th>\n",
       "    </tr>\n",
       "  </thead>\n",
       "  <tbody>\n",
       "    <tr>\n",
       "      <th>7017</th>\n",
       "      <td>3faa34259c584f6097a66faa38e88a06</td>\n",
       "      <td>M</td>\n",
       "      <td>48</td>\n",
       "      <td>33615</td>\n",
       "      <td>COPD</td>\n",
       "      <td>37</td>\n",
       "      <td>recovered</td>\n",
       "    </tr>\n",
       "    <tr>\n",
       "      <th>12240</th>\n",
       "      <td>4b6a1956aa174890a8fde2afd887b926</td>\n",
       "      <td>M</td>\n",
       "      <td>52</td>\n",
       "      <td>60581</td>\n",
       "      <td>Alzheimer</td>\n",
       "      <td>42</td>\n",
       "      <td>intensive care</td>\n",
       "    </tr>\n",
       "    <tr>\n",
       "      <th>5644</th>\n",
       "      <td>5a65424729cf450eb954d4b3c7323a8c</td>\n",
       "      <td>M</td>\n",
       "      <td>36</td>\n",
       "      <td>23840</td>\n",
       "      <td>Arthritis</td>\n",
       "      <td>42</td>\n",
       "      <td>unchanged</td>\n",
       "    </tr>\n",
       "    <tr>\n",
       "      <th>4604</th>\n",
       "      <td>6ea2e53ac5d34c22b086cdc0874c0833</td>\n",
       "      <td>F</td>\n",
       "      <td>30</td>\n",
       "      <td>26665</td>\n",
       "      <td>High Blood Pressure</td>\n",
       "      <td>22</td>\n",
       "      <td>unchanged</td>\n",
       "    </tr>\n",
       "    <tr>\n",
       "      <th>16367</th>\n",
       "      <td>1fdf784cb8d94b43aec176338d84bc89</td>\n",
       "      <td>F</td>\n",
       "      <td>61</td>\n",
       "      <td>63616</td>\n",
       "      <td>Alzheimer</td>\n",
       "      <td>31</td>\n",
       "      <td>unchanged</td>\n",
       "    </tr>\n",
       "  </tbody>\n",
       "</table>\n",
       "</div>"
      ],
      "text/plain": [
       "                                     ID Gender  Age    Zip  \\\n",
       "7017   3faa34259c584f6097a66faa38e88a06      M   48  33615   \n",
       "12240  4b6a1956aa174890a8fde2afd887b926      M   52  60581   \n",
       "5644   5a65424729cf450eb954d4b3c7323a8c      M   36  23840   \n",
       "4604   6ea2e53ac5d34c22b086cdc0874c0833      F   30  26665   \n",
       "16367  1fdf784cb8d94b43aec176338d84bc89      F   61  63616   \n",
       "\n",
       "                 Diagnosis  Treatment         Outcome  \n",
       "7017                  COPD         37       recovered  \n",
       "12240            Alzheimer         42  intensive care  \n",
       "5644             Arthritis         42       unchanged  \n",
       "4604   High Blood Pressure         22       unchanged  \n",
       "16367            Alzheimer         31       unchanged  "
      ]
     },
     "metadata": {}
    },
    {
     "output_type": "stream",
     "name": "stdout",
     "text": [
      "\n",
      "Synthesized Demographic Dataset:\n"
     ]
    },
    {
     "output_type": "display_data",
     "data": {
      "text/html": [
       "<div>\n",
       "<style scoped>\n",
       "    .dataframe tbody tr th:only-of-type {\n",
       "        vertical-align: middle;\n",
       "    }\n",
       "\n",
       "    .dataframe tbody tr th {\n",
       "        vertical-align: top;\n",
       "    }\n",
       "\n",
       "    .dataframe thead th {\n",
       "        text-align: right;\n",
       "    }\n",
       "</style>\n",
       "<table border=\"1\" class=\"dataframe\">\n",
       "  <thead>\n",
       "    <tr style=\"text-align: right;\">\n",
       "      <th></th>\n",
       "      <th>Gender_encoded</th>\n",
       "      <th>Age_encoded</th>\n",
       "      <th>Zip_encoded</th>\n",
       "      <th>Diagnosis_encoded</th>\n",
       "    </tr>\n",
       "  </thead>\n",
       "  <tbody>\n",
       "    <tr>\n",
       "      <th>18938</th>\n",
       "      <td>1</td>\n",
       "      <td>69</td>\n",
       "      <td>7673</td>\n",
       "      <td>7</td>\n",
       "    </tr>\n",
       "    <tr>\n",
       "      <th>9274</th>\n",
       "      <td>0</td>\n",
       "      <td>17</td>\n",
       "      <td>61993</td>\n",
       "      <td>8</td>\n",
       "    </tr>\n",
       "    <tr>\n",
       "      <th>15549</th>\n",
       "      <td>1</td>\n",
       "      <td>31</td>\n",
       "      <td>54432</td>\n",
       "      <td>6</td>\n",
       "    </tr>\n",
       "    <tr>\n",
       "      <th>29353</th>\n",
       "      <td>0</td>\n",
       "      <td>68</td>\n",
       "      <td>14239</td>\n",
       "      <td>0</td>\n",
       "    </tr>\n",
       "    <tr>\n",
       "      <th>22411</th>\n",
       "      <td>0</td>\n",
       "      <td>60</td>\n",
       "      <td>4091</td>\n",
       "      <td>2</td>\n",
       "    </tr>\n",
       "  </tbody>\n",
       "</table>\n",
       "</div>"
      ],
      "text/plain": [
       "       Gender_encoded  Age_encoded  Zip_encoded  Diagnosis_encoded\n",
       "18938               1           69         7673                  7\n",
       "9274                0           17        61993                  8\n",
       "15549               1           31        54432                  6\n",
       "29353               0           68        14239                  0\n",
       "22411               0           60         4091                  2"
      ]
     },
     "metadata": {}
    }
   ],
   "metadata": {
    "gather": {
     "logged": 1607616222576
    }
   }
  },
  {
   "cell_type": "markdown",
   "source": [
    "### Perform the attack\n",
    "Now, we perform the reidentification attack with the synthetic data, again using a combinatorial approach."
   ],
   "metadata": {}
  },
  {
   "cell_type": "code",
   "execution_count": 23,
   "source": [
    "reident_attack_2 = reident.try_reidentification_noise(df_synthesized, df_medical_synth, logger)"
   ],
   "outputs": [
    {
     "output_type": "stream",
     "name": "stderr",
     "text": [
      "INFO:root:Trying reidentification with differential privacy-protected data: 30000. Attacker collection: 30000\n",
      "INFO:root:In this setup, we can only count potential matches. We cannot validate for actual matches, as we do not have the unique patient ids after synthesizing.\n",
      " 14%|█▍        | 4325/30000 [00:12<01:16, 336.87it/s]\n"
     ]
    },
    {
     "output_type": "error",
     "ename": "KeyboardInterrupt",
     "evalue": "",
     "traceback": [
      "\u001b[1;31m---------------------------------------------------------------------------\u001b[0m",
      "\u001b[1;31mKeyboardInterrupt\u001b[0m                         Traceback (most recent call last)",
      "\u001b[1;32mC:\\Users\\CIPRIA~1.JIC\\AppData\\Local\\Temp/ipykernel_9420/3829411507.py\u001b[0m in \u001b[0;36m<module>\u001b[1;34m\u001b[0m\n\u001b[1;32m----> 1\u001b[1;33m \u001b[0mreident_attack_2\u001b[0m \u001b[1;33m=\u001b[0m \u001b[0mreident\u001b[0m\u001b[1;33m.\u001b[0m\u001b[0mtry_reidentification_noise\u001b[0m\u001b[1;33m(\u001b[0m\u001b[0mdf_synthesized\u001b[0m\u001b[1;33m,\u001b[0m \u001b[0mdf_medical_synth\u001b[0m\u001b[1;33m,\u001b[0m \u001b[0mlogger\u001b[0m\u001b[1;33m)\u001b[0m\u001b[1;33m\u001b[0m\u001b[1;33m\u001b[0m\u001b[0m\n\u001b[0m",
      "\u001b[1;32md:\\Repos\\OpenDP-SmartNoise-Samples\\whitepaper-demos\\reident_tools.py\u001b[0m in \u001b[0;36mtry_reidentification_noise\u001b[1;34m(df_demographic, df_medical, logger)\u001b[0m\n\u001b[0;32m    237\u001b[0m     \u001b[1;31m# Create data\u001b[0m\u001b[1;33m\u001b[0m\u001b[1;33m\u001b[0m\u001b[1;33m\u001b[0m\u001b[0m\n\u001b[0;32m    238\u001b[0m     \u001b[1;32mfor\u001b[0m \u001b[0mindex\u001b[0m\u001b[1;33m,\u001b[0m \u001b[0mrow\u001b[0m \u001b[1;32min\u001b[0m \u001b[0mtqdm\u001b[0m\u001b[1;33m(\u001b[0m\u001b[0mdf_demographic_data\u001b[0m\u001b[1;33m.\u001b[0m\u001b[0miterrows\u001b[0m\u001b[1;33m(\u001b[0m\u001b[1;33m)\u001b[0m\u001b[1;33m,\u001b[0m \u001b[0mtotal\u001b[0m\u001b[1;33m=\u001b[0m\u001b[0mdf_demographic\u001b[0m\u001b[1;33m.\u001b[0m\u001b[0mshape\u001b[0m\u001b[1;33m[\u001b[0m\u001b[1;36m0\u001b[0m\u001b[1;33m]\u001b[0m\u001b[1;33m)\u001b[0m\u001b[1;33m:\u001b[0m\u001b[1;33m\u001b[0m\u001b[1;33m\u001b[0m\u001b[0m\n\u001b[1;32m--> 239\u001b[1;33m         \u001b[0mdf_filtered\u001b[0m \u001b[1;33m=\u001b[0m \u001b[0mdf_medical\u001b[0m\u001b[1;33m.\u001b[0m\u001b[0mloc\u001b[0m\u001b[1;33m[\u001b[0m\u001b[1;33m(\u001b[0m\u001b[0mdf_medical\u001b[0m\u001b[1;33m[\u001b[0m\u001b[1;34m'Gender'\u001b[0m\u001b[1;33m]\u001b[0m \u001b[1;33m==\u001b[0m \u001b[0mrow\u001b[0m\u001b[1;33m[\u001b[0m\u001b[1;34m'Gender_encoded'\u001b[0m\u001b[1;33m]\u001b[0m\u001b[1;33m)\u001b[0m \u001b[1;33m&\u001b[0m \u001b[1;33m(\u001b[0m\u001b[0mdf_medical\u001b[0m\u001b[1;33m[\u001b[0m\u001b[1;34m'Age'\u001b[0m\u001b[1;33m]\u001b[0m \u001b[1;33m==\u001b[0m \u001b[0mrow\u001b[0m\u001b[1;33m[\u001b[0m\u001b[1;34m'Age_encoded'\u001b[0m\u001b[1;33m]\u001b[0m\u001b[1;33m)\u001b[0m \u001b[1;33m&\u001b[0m \u001b[1;33m(\u001b[0m\u001b[0mdf_medical\u001b[0m\u001b[1;33m.\u001b[0m\u001b[0mZip\u001b[0m \u001b[1;33m==\u001b[0m \u001b[0mrow\u001b[0m\u001b[1;33m[\u001b[0m\u001b[1;34m'Zip_encoded'\u001b[0m\u001b[1;33m]\u001b[0m\u001b[1;33m)\u001b[0m\u001b[1;33m]\u001b[0m\u001b[1;33m.\u001b[0m\u001b[0mcopy\u001b[0m\u001b[1;33m(\u001b[0m\u001b[1;33m)\u001b[0m\u001b[1;33m\u001b[0m\u001b[1;33m\u001b[0m\u001b[0m\n\u001b[0m\u001b[0;32m    240\u001b[0m         \u001b[1;32mif\u001b[0m \u001b[0mlen\u001b[0m\u001b[1;33m(\u001b[0m\u001b[0mdf_filtered\u001b[0m\u001b[1;33m)\u001b[0m \u001b[1;33m==\u001b[0m \u001b[1;36m0\u001b[0m\u001b[1;33m:\u001b[0m\u001b[1;33m\u001b[0m\u001b[1;33m\u001b[0m\u001b[0m\n\u001b[0;32m    241\u001b[0m             \u001b[1;32mcontinue\u001b[0m\u001b[1;33m\u001b[0m\u001b[1;33m\u001b[0m\u001b[0m\n",
      "\u001b[1;32md:\\Repos\\OpenDP-SmartNoise-Samples\\.venv\\lib\\site-packages\\pandas\\core\\ops\\common.py\u001b[0m in \u001b[0;36mnew_method\u001b[1;34m(self, other)\u001b[0m\n\u001b[0;32m     67\u001b[0m         \u001b[0mother\u001b[0m \u001b[1;33m=\u001b[0m \u001b[0mitem_from_zerodim\u001b[0m\u001b[1;33m(\u001b[0m\u001b[0mother\u001b[0m\u001b[1;33m)\u001b[0m\u001b[1;33m\u001b[0m\u001b[1;33m\u001b[0m\u001b[0m\n\u001b[0;32m     68\u001b[0m \u001b[1;33m\u001b[0m\u001b[0m\n\u001b[1;32m---> 69\u001b[1;33m         \u001b[1;32mreturn\u001b[0m \u001b[0mmethod\u001b[0m\u001b[1;33m(\u001b[0m\u001b[0mself\u001b[0m\u001b[1;33m,\u001b[0m \u001b[0mother\u001b[0m\u001b[1;33m)\u001b[0m\u001b[1;33m\u001b[0m\u001b[1;33m\u001b[0m\u001b[0m\n\u001b[0m\u001b[0;32m     70\u001b[0m \u001b[1;33m\u001b[0m\u001b[0m\n\u001b[0;32m     71\u001b[0m     \u001b[1;32mreturn\u001b[0m \u001b[0mnew_method\u001b[0m\u001b[1;33m\u001b[0m\u001b[1;33m\u001b[0m\u001b[0m\n",
      "\u001b[1;32md:\\Repos\\OpenDP-SmartNoise-Samples\\.venv\\lib\\site-packages\\pandas\\core\\arraylike.py\u001b[0m in \u001b[0;36m__and__\u001b[1;34m(self, other)\u001b[0m\n\u001b[0;32m     60\u001b[0m     \u001b[1;33m@\u001b[0m\u001b[0munpack_zerodim_and_defer\u001b[0m\u001b[1;33m(\u001b[0m\u001b[1;34m\"__and__\"\u001b[0m\u001b[1;33m)\u001b[0m\u001b[1;33m\u001b[0m\u001b[1;33m\u001b[0m\u001b[0m\n\u001b[0;32m     61\u001b[0m     \u001b[1;32mdef\u001b[0m \u001b[0m__and__\u001b[0m\u001b[1;33m(\u001b[0m\u001b[0mself\u001b[0m\u001b[1;33m,\u001b[0m \u001b[0mother\u001b[0m\u001b[1;33m)\u001b[0m\u001b[1;33m:\u001b[0m\u001b[1;33m\u001b[0m\u001b[1;33m\u001b[0m\u001b[0m\n\u001b[1;32m---> 62\u001b[1;33m         \u001b[1;32mreturn\u001b[0m \u001b[0mself\u001b[0m\u001b[1;33m.\u001b[0m\u001b[0m_logical_method\u001b[0m\u001b[1;33m(\u001b[0m\u001b[0mother\u001b[0m\u001b[1;33m,\u001b[0m \u001b[0moperator\u001b[0m\u001b[1;33m.\u001b[0m\u001b[0mand_\u001b[0m\u001b[1;33m)\u001b[0m\u001b[1;33m\u001b[0m\u001b[1;33m\u001b[0m\u001b[0m\n\u001b[0m\u001b[0;32m     63\u001b[0m \u001b[1;33m\u001b[0m\u001b[0m\n\u001b[0;32m     64\u001b[0m     \u001b[1;33m@\u001b[0m\u001b[0munpack_zerodim_and_defer\u001b[0m\u001b[1;33m(\u001b[0m\u001b[1;34m\"__rand__\"\u001b[0m\u001b[1;33m)\u001b[0m\u001b[1;33m\u001b[0m\u001b[1;33m\u001b[0m\u001b[0m\n",
      "\u001b[1;32md:\\Repos\\OpenDP-SmartNoise-Samples\\.venv\\lib\\site-packages\\pandas\\core\\series.py\u001b[0m in \u001b[0;36m_logical_method\u001b[1;34m(self, other, op)\u001b[0m\n\u001b[0;32m   5511\u001b[0m         \u001b[0mrvalues\u001b[0m \u001b[1;33m=\u001b[0m \u001b[0mextract_array\u001b[0m\u001b[1;33m(\u001b[0m\u001b[0mother\u001b[0m\u001b[1;33m,\u001b[0m \u001b[0mextract_numpy\u001b[0m\u001b[1;33m=\u001b[0m\u001b[1;32mTrue\u001b[0m\u001b[1;33m,\u001b[0m \u001b[0mextract_range\u001b[0m\u001b[1;33m=\u001b[0m\u001b[1;32mTrue\u001b[0m\u001b[1;33m)\u001b[0m\u001b[1;33m\u001b[0m\u001b[1;33m\u001b[0m\u001b[0m\n\u001b[0;32m   5512\u001b[0m \u001b[1;33m\u001b[0m\u001b[0m\n\u001b[1;32m-> 5513\u001b[1;33m         \u001b[0mres_values\u001b[0m \u001b[1;33m=\u001b[0m \u001b[0mops\u001b[0m\u001b[1;33m.\u001b[0m\u001b[0mlogical_op\u001b[0m\u001b[1;33m(\u001b[0m\u001b[0mlvalues\u001b[0m\u001b[1;33m,\u001b[0m \u001b[0mrvalues\u001b[0m\u001b[1;33m,\u001b[0m \u001b[0mop\u001b[0m\u001b[1;33m)\u001b[0m\u001b[1;33m\u001b[0m\u001b[1;33m\u001b[0m\u001b[0m\n\u001b[0m\u001b[0;32m   5514\u001b[0m         \u001b[1;32mreturn\u001b[0m \u001b[0mself\u001b[0m\u001b[1;33m.\u001b[0m\u001b[0m_construct_result\u001b[0m\u001b[1;33m(\u001b[0m\u001b[0mres_values\u001b[0m\u001b[1;33m,\u001b[0m \u001b[0mname\u001b[0m\u001b[1;33m=\u001b[0m\u001b[0mres_name\u001b[0m\u001b[1;33m)\u001b[0m\u001b[1;33m\u001b[0m\u001b[1;33m\u001b[0m\u001b[0m\n\u001b[0;32m   5515\u001b[0m \u001b[1;33m\u001b[0m\u001b[0m\n",
      "\u001b[1;32md:\\Repos\\OpenDP-SmartNoise-Samples\\.venv\\lib\\site-packages\\pandas\\core\\ops\\array_ops.py\u001b[0m in \u001b[0;36mlogical_op\u001b[1;34m(left, right, op)\u001b[0m\n\u001b[0;32m    390\u001b[0m         \u001b[0mfiller\u001b[0m \u001b[1;33m=\u001b[0m \u001b[0mfill_int\u001b[0m \u001b[1;32mif\u001b[0m \u001b[0mis_self_int_dtype\u001b[0m \u001b[1;32mand\u001b[0m \u001b[0mis_other_int_dtype\u001b[0m \u001b[1;32melse\u001b[0m \u001b[0mfill_bool\u001b[0m\u001b[1;33m\u001b[0m\u001b[1;33m\u001b[0m\u001b[0m\n\u001b[0;32m    391\u001b[0m \u001b[1;33m\u001b[0m\u001b[0m\n\u001b[1;32m--> 392\u001b[1;33m         \u001b[0mres_values\u001b[0m \u001b[1;33m=\u001b[0m \u001b[0mna_logical_op\u001b[0m\u001b[1;33m(\u001b[0m\u001b[0mlvalues\u001b[0m\u001b[1;33m,\u001b[0m \u001b[0mrvalues\u001b[0m\u001b[1;33m,\u001b[0m \u001b[0mop\u001b[0m\u001b[1;33m)\u001b[0m\u001b[1;33m\u001b[0m\u001b[1;33m\u001b[0m\u001b[0m\n\u001b[0m\u001b[0;32m    393\u001b[0m         \u001b[1;31m# error: Cannot call function of unknown type\u001b[0m\u001b[1;33m\u001b[0m\u001b[1;33m\u001b[0m\u001b[1;33m\u001b[0m\u001b[0m\n\u001b[0;32m    394\u001b[0m         \u001b[0mres_values\u001b[0m \u001b[1;33m=\u001b[0m \u001b[0mfiller\u001b[0m\u001b[1;33m(\u001b[0m\u001b[0mres_values\u001b[0m\u001b[1;33m)\u001b[0m  \u001b[1;31m# type: ignore[operator]\u001b[0m\u001b[1;33m\u001b[0m\u001b[1;33m\u001b[0m\u001b[0m\n",
      "\u001b[1;32md:\\Repos\\OpenDP-SmartNoise-Samples\\.venv\\lib\\site-packages\\pandas\\core\\ops\\array_ops.py\u001b[0m in \u001b[0;36mna_logical_op\u001b[1;34m(x, y, op)\u001b[0m\n\u001b[0;32m    300\u001b[0m         \u001b[1;31m# Then Cases where this goes through without raising include:\u001b[0m\u001b[1;33m\u001b[0m\u001b[1;33m\u001b[0m\u001b[1;33m\u001b[0m\u001b[0m\n\u001b[0;32m    301\u001b[0m         \u001b[1;31m#  (xint or xbool) and (yint or bool)\u001b[0m\u001b[1;33m\u001b[0m\u001b[1;33m\u001b[0m\u001b[1;33m\u001b[0m\u001b[0m\n\u001b[1;32m--> 302\u001b[1;33m         \u001b[0mresult\u001b[0m \u001b[1;33m=\u001b[0m \u001b[0mop\u001b[0m\u001b[1;33m(\u001b[0m\u001b[0mx\u001b[0m\u001b[1;33m,\u001b[0m \u001b[0my\u001b[0m\u001b[1;33m)\u001b[0m\u001b[1;33m\u001b[0m\u001b[1;33m\u001b[0m\u001b[0m\n\u001b[0m\u001b[0;32m    303\u001b[0m     \u001b[1;32mexcept\u001b[0m \u001b[0mTypeError\u001b[0m\u001b[1;33m:\u001b[0m\u001b[1;33m\u001b[0m\u001b[1;33m\u001b[0m\u001b[0m\n\u001b[0;32m    304\u001b[0m         \u001b[1;32mif\u001b[0m \u001b[0misinstance\u001b[0m\u001b[1;33m(\u001b[0m\u001b[0my\u001b[0m\u001b[1;33m,\u001b[0m \u001b[0mnp\u001b[0m\u001b[1;33m.\u001b[0m\u001b[0mndarray\u001b[0m\u001b[1;33m)\u001b[0m\u001b[1;33m:\u001b[0m\u001b[1;33m\u001b[0m\u001b[1;33m\u001b[0m\u001b[0m\n",
      "\u001b[1;31mKeyboardInterrupt\u001b[0m: "
     ]
    }
   ],
   "metadata": {
    "gather": {
     "logged": 1607616380533
    }
   }
  },
  {
   "cell_type": "markdown",
   "source": [
    "### Results of the attack\n",
    "Below, we show the amount of potential and actual matches and provide a glance at the data."
   ],
   "metadata": {}
  },
  {
   "cell_type": "code",
   "execution_count": 17,
   "source": [
    "print(f'Found {len(reident_attack_2)} potential matches!')\r\n",
    "reident_attack_2.head()"
   ],
   "outputs": [
    {
     "output_type": "stream",
     "name": "stdout",
     "text": [
      "Found 0 potential matches!\n"
     ]
    },
    {
     "output_type": "execute_result",
     "data": {
      "text/html": [
       "<div>\n",
       "<style scoped>\n",
       "    .dataframe tbody tr th:only-of-type {\n",
       "        vertical-align: middle;\n",
       "    }\n",
       "\n",
       "    .dataframe tbody tr th {\n",
       "        vertical-align: top;\n",
       "    }\n",
       "\n",
       "    .dataframe thead th {\n",
       "        text-align: right;\n",
       "    }\n",
       "</style>\n",
       "<table border=\"1\" class=\"dataframe\">\n",
       "  <thead>\n",
       "    <tr style=\"text-align: right;\">\n",
       "      <th></th>\n",
       "      <th>ID</th>\n",
       "      <th>Gender</th>\n",
       "      <th>Age</th>\n",
       "      <th>Zip</th>\n",
       "      <th>Diagnosis</th>\n",
       "      <th>Treatment</th>\n",
       "      <th>Outcome</th>\n",
       "    </tr>\n",
       "  </thead>\n",
       "  <tbody>\n",
       "  </tbody>\n",
       "</table>\n",
       "</div>"
      ],
      "text/plain": [
       "Empty DataFrame\n",
       "Columns: [ID, Gender, Age, Zip, Diagnosis, Treatment, Outcome]\n",
       "Index: []"
      ]
     },
     "metadata": {},
     "execution_count": 17
    }
   ],
   "metadata": {
    "gather": {
     "logged": 1607614839320
    }
   }
  },
  {
   "cell_type": "code",
   "execution_count": null,
   "source": [],
   "outputs": [],
   "metadata": {}
  }
 ],
 "metadata": {
  "kernel_info": {
   "name": "python3"
  },
  "kernelspec": {
   "name": "python3",
   "display_name": "Python 3.8.10 64-bit ('.venv': venv)"
  },
  "language_info": {
   "codemirror_mode": {
    "name": "ipython",
    "version": 3
   },
   "file_extension": ".py",
   "mimetype": "text/x-python",
   "name": "python",
   "nbconvert_exporter": "python",
   "pygments_lexer": "ipython3",
   "version": "3.8.10"
  },
  "nteract": {
   "version": "nteract-front-end@1.0.0"
  },
  "interpreter": {
   "hash": "7db80ffa0fa6d2241722faa1625c6f6ec2c5ee2efca66be1a48044e9e0db9c67"
  }
 },
 "nbformat": 4,
 "nbformat_minor": 4
}