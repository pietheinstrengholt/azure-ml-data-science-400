{
  "cells": [
    {
      "cell_type": "markdown",
      "source": [
        "# Simple Attack\n",
        "\n",
        "In this notebook, we will examine perhaps the simplest possible attack on an individual's private data and what the SmartNoise library can do to mitigate it."
      ],
      "metadata": {}
    },
    {
      "cell_type": "markdown",
      "source": [
        "## Installs and imports"
      ],
      "metadata": {}
    },
    {
      "cell_type": "code",
      "source": [
        "# Install required libraries, uncomment if needed\n",
        "!pip install opendp-smartnoise seaborn"
      ],
      "outputs": [],
      "execution_count": null,
      "metadata": {
        "gather": {
          "logged": 1638398471068
        }
      }
    },
    {
      "cell_type": "code",
      "source": [
        "import os \n",
        "import numpy as np\n",
        "import pandas as pd\n",
        "\n",
        "# load data\n",
        "data = pd.read_csv(os.path.join('data', 'pums_10000.csv'))\n",
        "n_obs = data.shape[0]\n",
        "\n",
        "person_of_interest = data.iloc[0]\n",
        "print('person of interest:\\n\\n{0}'.format(person_of_interest))\n"
      ],
      "outputs": [],
      "execution_count": null,
      "metadata": {
        "gather": {
          "logged": 1638398611906
        }
      }
    },
    {
      "cell_type": "markdown",
      "source": [
        "Consider an attacker who knows everything about the data except for the person of interest's (POI) income, which is considered private. They can back out the individual's income very easily, just from asking for the mean overall mean income.    "
      ],
      "metadata": {}
    },
    {
      "cell_type": "code",
      "source": [
        "# they already know everyone else's income\n",
        "known_mean = np.mean(data.iloc[1:]['income'])\n",
        "known_obs = n_obs - 1\n",
        "\n",
        "# overall mean\n",
        "overall_mean = np.mean(data['income'])\n",
        "\n",
        "# back out POI's income\n",
        "poi_income = overall_mean * n_obs - known_obs * known_mean\n",
        "print('poi_income: {0}'.format(poi_income))"
      ],
      "outputs": [],
      "execution_count": null,
      "metadata": {
        "gather": {
          "logged": 1638398627824
        }
      }
    },
    {
      "cell_type": "markdown",
      "source": [
        "The attacker now knows with certainty that the POI has an income of **$6,000**. Let's see what happens if the attacker were made to interact with the data through SmartNoise and was given a privacy budget of $\\epsilon = 1$. We will assume that the attacker is reasonably familiar with differential privacy and believes that they should use tighter data bounds than they know are actually in the data in order to get a less noisy estimate. They will need to update their `known_mean` accordingly.\n",
        "\n",
        "We will also assume that the attacker will spend all of their privacy budget on a single query. This assumption can be changed by changing the `n_queries` variable below. \n",
        "\n",
        "We will be using `n_sims` to simulate the process a number of times to get a sense for various possible outcomes for the attacker. In practice, they would see the result of only one simulation.\n",
        "\n",
        "**TIP**\n",
        "\n",
        "The following cell takes several minutes to complete. Start the execution of the cell first and then try to understand the details of the code being executed."
      ],
      "metadata": {}
    },
    {
      "cell_type": "code",
      "source": [
        "import opendp.smartnoise.core as sn\n",
        "\n",
        "data_path = os.path.join('data', 'pums_10000.csv')\n",
        "var_names = ['sex', 'age', 'educ', 'income', 'married', 'race']\n",
        "\n",
        "# update known_mean\n",
        "known_mean = np.mean(np.clip(data.iloc[1:]['income'], 0, 100000))\n",
        "\n",
        "# initialize vector to store estimated overall means\n",
        "n_sims = 10000\n",
        "n_queries = 1\n",
        "poi_income_ests = []\n",
        "estimated_means = []\n",
        "\n",
        "# get estimates of overall means\n",
        "for i in range(n_sims):\n",
        "\n",
        "    if (i + 1) % 100 == 0:\n",
        "        print(f'Simulation {i + 1} of {n_sims} completed.')\n",
        "\n",
        "    query_means = []\n",
        "    with sn.Analysis() as analysis:\n",
        "        income = sn.resize(\n",
        "            sn.to_float(sn.Dataset(path = data_path, column_names = var_names)['income']),\n",
        "            number_rows = n_obs,\n",
        "            data_lower = 0.,\n",
        "            data_upper = 100_000.)\n",
        "        \n",
        "        for j in range(n_queries):\n",
        "            query_means.append(sn.dp_mean(\n",
        "                data = income,\n",
        "                privacy_usage = {'epsilon': 1/n_queries}))\n",
        "    analysis.release()\n",
        "\n",
        "    # get estimates of POI income\n",
        "    estimated_means.append(np.mean([mean.value for mean in query_means]))\n",
        "    poi_income_ests.append(estimated_means[i] * n_obs - known_obs * known_mean)"
      ],
      "outputs": [],
      "execution_count": null,
      "metadata": {
        "gather": {
          "logged": 1638399563056
        }
      }
    },
    {
      "cell_type": "code",
      "source": [
        "# get mean of estimates\n",
        "print('Known Mean Income (after truncation): {0}'.format(known_mean))\n",
        "print('Observed Mean Income: {0}'.format(np.mean(estimated_means)))\n",
        "print('Estimated POI Income: {0}'.format(np.mean(poi_income_ests)))\n",
        "print('True POI Income: {0}'.format(person_of_interest['income']))"
      ],
      "outputs": [],
      "execution_count": null,
      "metadata": {
        "gather": {
          "logged": 1638399601074
        }
      }
    },
    {
      "cell_type": "markdown",
      "source": [
        "We see empirically that, in expectation, the attacker can get a reasonably good estimate of POI's income. However, they will rarely (if ever) get it exactly and would have no way of knowing if they did.\n",
        "\n",
        "Below is a plot showing an empirical distribution of estimates of POI income."
      ],
      "metadata": {}
    },
    {
      "cell_type": "code",
      "source": [
        "import warnings\n",
        "import seaborn as sns\n",
        "\n",
        "# hide warning created by outstanding scipy.stats issue\n",
        "warnings.simplefilter(action='ignore', category=FutureWarning)\n",
        "\n",
        "# distribution of POI income\n",
        "ax = sns.distplot(poi_income_ests, kde = False, hist_kws = dict(edgecolor = 'black', linewidth = 1))\n",
        "ax.set(xlabel = 'Estimated POI income')"
      ],
      "outputs": [],
      "execution_count": null,
      "metadata": {
        "gather": {
          "logged": 1638399618874
        }
      }
    }
  ],
  "metadata": {
    "pygments_lexer": "ipython3",
    "name": "python",
    "microsoft": {
      "host": {
        "AzureML": {
          "notebookHasBeenCompleted": true
        }
      }
    },
    "mimetype": "text/x-python",
    "npconvert_exporter": "python",
    "kernel_info": {
      "name": "python3"
    },
    "language_info": {
      "name": "python",
      "version": "3.6.9",
      "mimetype": "text/x-python",
      "codemirror_mode": {
        "name": "ipython",
        "version": 3
      },
      "pygments_lexer": "ipython3",
      "nbconvert_exporter": "python",
      "file_extension": ".py"
    },
    "version": 3,
    "kernelspec": {
      "name": "python3",
      "language": "python",
      "display_name": "Python 3"
    },
    "interpreter": {
      "hash": "f6033632f8943e8f4ce6187d8242b8170125a6c5c97f2241d5b1e63946e217cb"
    },
    "file_extension": ".py",
    "nteract": {
      "version": "nteract-front-end@1.0.0"
    }
  },
  "nbformat": 4,
  "nbformat_minor": 2
}