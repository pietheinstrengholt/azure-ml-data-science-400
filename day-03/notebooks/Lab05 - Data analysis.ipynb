{
  "cells": [
    {
      "cell_type": "markdown",
      "source": [
        "# Privacy-Preserving Statistical Analysis with Differential Privacy "
      ],
      "metadata": {}
    },
    {
      "cell_type": "markdown",
      "source": [
        "The goal of this notebook is to demonstrate how to generate and release basic statistical outcomes in a differentially private fashion. We will assess the impact on various privacy levels and dataset sizes on accuracy.\n",
        "\n",
        "We are using a dataset containing demographic data about Californian residents from the Public Use Microdata Sample (PUMS) statistics.\n",
        "The dataset includes more than 1.2m records and is therefore well suited to experiment with different sample sizes.\n",
        "\n",
        "The data includes personal information like gender, age, ethnical background, income and marital status. For our analysis, we will focus on creating histograms for the yearly income.\n",
        "\n",
        "The default method for generating a histogram in SmartNoise is by releasing counts of each bin or category using the geometric mechanism. The geometric mechanism only returns integer values for any query, so resists some vulnerabilities of DP releases from floating point approximations. It is also possible to generate histograms from the more typical Laplace mechanism. We show both approaches below."
      ],
      "metadata": {}
    },
    {
      "cell_type": "markdown",
      "source": [
        "## Installs and imports"
      ],
      "metadata": {}
    },
    {
      "cell_type": "code",
      "source": [
        "!pip install opendp-smartnoise seaborn"
      ],
      "outputs": [],
      "execution_count": null,
      "metadata": {}
    },
    {
      "cell_type": "code",
      "source": [
        "import os\n",
        "import opendp.smartnoise.core as sn\n",
        "import pandas as pd\n",
        "import numpy as np\n",
        "import matplotlib.pyplot as plt\n",
        "%config InlineBackend.figure_format = 'retina'\n",
        "import seaborn as sns\n",
        "\n",
        "datafile = os.path.join('.','data','PUMS-california-demographics.csv')\n",
        "samplefile = os.path.join('.','data','sample.csv') # export generated sample and import for DP analysis\n",
        "\n",
        "df = pd.read_csv(datafile, usecols = range(1,11))"
      ],
      "outputs": [],
      "execution_count": null,
      "metadata": {
        "gather": {
          "logged": 1638400972064
        }
      }
    },
    {
      "cell_type": "markdown",
      "source": [
        "## Inspect Dataset"
      ],
      "metadata": {}
    },
    {
      "cell_type": "code",
      "source": [
        "df.head(8)"
      ],
      "outputs": [],
      "execution_count": null,
      "metadata": {
        "gather": {
          "logged": 1638400977960
        }
      }
    },
    {
      "cell_type": "markdown",
      "source": [
        "## Preprocess data\n",
        "Converting the continuous variable income to catagories as foundation for the further analysis."
      ],
      "metadata": {}
    },
    {
      "cell_type": "code",
      "source": [
        "# remove entries with negative income values\n",
        "df.drop (df[df['income'] < 0].index, inplace=True)\n",
        "\n",
        "income_categories = ['less 10k', '10k-20k', '20k-30k', '30k-40k', '40k-50k', '50k-60k', '60k-80k', '80k-100k', '100k-150k', 'above 150k']\n",
        "cut_bins = [-1, 10000, 20000, 30000, 40000, 50000, 60000, 80000, 100000, 150000, 1000000] # 10 categories\n",
        "df['inc_cat'] = pd.cut(df['income'], bins=cut_bins, labels=income_categories)"
      ],
      "outputs": [],
      "execution_count": null,
      "metadata": {
        "gather": {
          "logged": 1638400981811
        }
      }
    },
    {
      "cell_type": "markdown",
      "source": [
        "## Review histogram of income from original dataset"
      ],
      "metadata": {}
    },
    {
      "cell_type": "code",
      "source": [
        "fig = sns.catplot(x=\"inc_cat\", kind=\"count\", data=df, height=7, aspect=1.5)\n",
        "plt.show()"
      ],
      "outputs": [],
      "execution_count": null,
      "metadata": {
        "gather": {
          "logged": 1638400994091
        }
      }
    },
    {
      "cell_type": "markdown",
      "source": [
        "## Draw a sample for conducting the DP analysis"
      ],
      "metadata": {}
    },
    {
      "cell_type": "code",
      "source": [
        "sample_size = 10000\n",
        "\n",
        "# draw sample \n",
        "sample = df.sample(n = sample_size, random_state=0)\n",
        "# save sample for DP analysis\n",
        "sample.to_csv(samplefile, index=False)"
      ],
      "outputs": [],
      "execution_count": null,
      "metadata": {
        "gather": {
          "logged": 1638401000484
        }
      }
    },
    {
      "cell_type": "markdown",
      "source": [
        "We define two functions to support the further analysis:\n",
        "1. `dp_histo` is used to generate data for the differentially private histograms for a given privacy parameter epsilon. It generates counts based on two alternative mechanisms to generate statistical noise: Geometric and Laplace.\n",
        "2. `perc_error` is used to calculate the percentage deviation between the true and the differentially private distribution."
      ],
      "metadata": {}
    },
    {
      "cell_type": "code",
      "source": [
        "def dp_histo(epsilon = 0.5):\n",
        "    \n",
        "    var_names = ['state', 'puma', 'sex', 'age', 'educ', 'income', 'latino', 'black', 'asian', 'married', 'inc_cat']\n",
        "\n",
        "    with sn.Analysis(protect_floating_point=False) as analysis:\n",
        "        data = sn.Dataset(path = samplefile, column_names = var_names)\n",
        "        nsize = sample_size    \n",
        "\n",
        "        income_histogram = sn.dp_histogram(\n",
        "                data['inc_cat'], \n",
        "                categories = income_categories,\n",
        "                null_value = \"-1\",\n",
        "                privacy_usage = {'epsilon': epsilon}\n",
        "            )\n",
        "\n",
        "        income_prep = sn.histogram(data['inc_cat'],\n",
        "                categories = income_categories, null_value = \"-1\")\n",
        "        income_histogram2 = sn.laplace_mechanism(income_prep, privacy_usage={\"epsilon\": epsilon, \"delta\": .000001})\n",
        "\n",
        "    analysis.release()\n",
        "    \n",
        "    return income_histogram.value, income_histogram2.value\n",
        "\n",
        "def perc_error(true_col, dp_col):\n",
        "    return sum(abs(true_col - dp_col)) / sum(true_col) * 100"
      ],
      "outputs": [],
      "execution_count": null,
      "metadata": {
        "gather": {
          "logged": 1638401004662
        }
      }
    },
    {
      "cell_type": "code",
      "source": [
        "epsilon = 0.1\n",
        "\n",
        "geo_counts, laplace_counts = dp_histo(epsilon) \n",
        "\n",
        "print(\"Income histogram Geometric DP release:   \" + str(geo_counts))\n",
        "print(\"Income histogram Laplace DP release:     \" + str(laplace_counts.astype(int)))\n",
        "\n",
        "# Clarify meaning of 11th value (bins = 10)"
      ],
      "outputs": [],
      "execution_count": null,
      "metadata": {
        "gather": {
          "logged": 1638401008653
        }
      }
    },
    {
      "cell_type": "code",
      "source": [
        "results = pd.DataFrame(index=income_categories)\n",
        "private_df = pd.read_csv(samplefile)\n",
        "results['True'] = private_df['inc_cat'].value_counts()\n",
        "results['Geom-DP'] = geo_counts[:len(income_categories)]\n",
        "results['Lapl-DP'] = laplace_counts[:len(income_categories)].astype(int)\n",
        "\n",
        "results"
      ],
      "outputs": [],
      "execution_count": null,
      "metadata": {
        "gather": {
          "logged": 1638401016080
        }
      }
    },
    {
      "cell_type": "code",
      "source": [
        "error_geom = perc_error(results['True'], results['Geom-DP'])\n",
        "error_lapl = perc_error(results['True'], results['Lapl-DP'])\n",
        "\n",
        "print ('Geometric DP mechanism with ε = ' + str(epsilon) + ' : Deviation compared to non-private sample  = ' + str(round(error_geom,1)) +'%')\n",
        "print ('Laplace DP mechanism with ε = ' + str(epsilon) + ' : Deviation compared to non-private sample = ' + str(round(error_lapl,1)) +'%')"
      ],
      "outputs": [],
      "execution_count": null,
      "metadata": {
        "gather": {
          "logged": 1638401020058
        }
      }
    },
    {
      "cell_type": "markdown",
      "source": [
        "## Assessing the impact of privacy guarantee and amount of data on accuracy\n",
        "We will generate histograms for various sample sizes. Each histogram compares the data from the original distribution with differentially private counts at different privacy levels (controlled by the privacy parameter ε). Low values of ε are associated with higher privacy guarantees and therefore higher amounts of statistical noise. The following charts can be used to develop an intuition for the tradeoff between privacy and accuracy.\n",
        "Furthermore, we will see how the loss in accuracy can be compensated by increasing the sample size. Feel free to adjust `sample_sizes` and `epsilons` in the cell below to investigate different settings."
      ],
      "metadata": {}
    },
    {
      "cell_type": "code",
      "source": [
        "sample_sizes = [10000, 50000, 200000]\n",
        "epsilons = [0.5, 0.1, 0.05]\n",
        "\n",
        "for sample_size in sample_sizes:\n",
        "    # draw sample \n",
        "    sample = df.sample(n = sample_size, random_state=0)\n",
        "    # save sample for DP analysis\n",
        "    sample.to_csv(samplefile, index=False)\n",
        "\n",
        "    results = pd.DataFrame(index=income_categories)\n",
        "    private_df = pd.read_csv(samplefile)\n",
        "    results['True'] = private_df['inc_cat'].value_counts()\n",
        "\n",
        "    labels = ['True value from original sample']\n",
        "    \n",
        "    for epsilon in epsilons:\n",
        "        geo_counts, laplace_counts = dp_histo(epsilon)\n",
        "\n",
        "        results['Geom-DP-'+str(epsilon)] = geo_counts[:len(income_categories)]\n",
        "               \n",
        "        error = perc_error(results['True'], results['Geom-DP-'+str(epsilon)])\n",
        "            \n",
        "        labels.append('DP with ε = ' + str(epsilon) + ' : Error = ' + str(round(error,1)) + '%')\n",
        "\n",
        "    ax = results.plot.bar(rot=45, figsize=(13, 8), width=0.8, fontsize=12, colormap = 'Accent')\n",
        "    plt.title('Income Distribution (n = '+str(sample_size)+')', fontsize=16)\n",
        "    plt.legend(fontsize = 12, labels=labels)\n",
        "    plt.grid(axis='y', alpha=0.5)\n",
        "    plt.ylabel('Count', fontsize = 14)\n",
        "    plt.ylim(-50)\n",
        "    plt.show()"
      ],
      "outputs": [],
      "execution_count": null,
      "metadata": {
        "gather": {
          "logged": 1638401034929
        }
      }
    }
  ],
  "metadata": {
    "kernelspec": {
      "name": "python3",
      "language": "python",
      "display_name": "Python 3"
    },
    "language_info": {
      "name": "python",
      "version": "3.6.9",
      "mimetype": "text/x-python",
      "codemirror_mode": {
        "name": "ipython",
        "version": 3
      },
      "pygments_lexer": "ipython3",
      "nbconvert_exporter": "python",
      "file_extension": ".py"
    },
    "kernel_info": {
      "name": "python3"
    },
    "nteract": {
      "version": "nteract-front-end@1.0.0"
    }
  },
  "nbformat": 4,
  "nbformat_minor": 4
}