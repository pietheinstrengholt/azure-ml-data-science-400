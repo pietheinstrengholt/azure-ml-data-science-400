{
  "cells": [
    {
      "cell_type": "markdown",
      "source": [
        "## Task 2 - Train models and record the best one"
      ],
      "metadata": {
        "nteract": {
          "transient": {
            "deleting": false
          }
        }
      }
    },
    {
      "cell_type": "code",
      "source": [
        "#DEPENDANCIES----------------------------------------\r\n",
        "#Scikit-learn machine learning models\r\n",
        "from sklearn.linear_model import LogisticRegression\r\n",
        "from sklearn.svm import SVC, LinearSVC\r\n",
        "from sklearn.ensemble import RandomForestClassifier\r\n",
        "from sklearn.neighbors import KNeighborsClassifier\r\n",
        "from sklearn.naive_bayes import GaussianNB\r\n",
        "from sklearn.linear_model import Perceptron\r\n",
        "from sklearn.linear_model import SGDClassifier\r\n",
        "from sklearn.tree import DecisionTreeClassifier\r\n",
        "#Scikit-learn data split\r\n",
        "from sklearn.model_selection import train_test_split\r\n",
        "from sklearn import metrics\r\n",
        "#To serialize models\r\n",
        "import pickle as pkl\r\n",
        "\r\n",
        "#Context\r\n",
        "from azureml.core import Workspace\r\n",
        "ws = Workspace.from_config()\r\n",
        "from azureml.core.model import Model\r\n",
        "\r\n",
        "#Get the data variable stored at the end of the data preparation file\r\n",
        "%store -r data\r\n",
        "data.head(5)\r\n",
        "#----------------------------------------------------"
      ],
      "outputs": [],
      "execution_count": null,
      "metadata": {
        "jupyter": {
          "source_hidden": false,
          "outputs_hidden": false
        },
        "nteract": {
          "transient": {
            "deleting": false
          }
        },
        "gather": {
          "logged": 1631968118315
        }
      }
    },
    {
      "cell_type": "code",
      "source": [
        "#TRAINING AND EVALUATING SOME MODELS-----------------\r\n",
        "#We do not take the 'Unknown' or 'Missing' death status to train our model\r\n",
        "#Neither do we take ethnicity who ads a lot of complexity for only 80k lines\r\n",
        "X = data.query('death_yn in [0, 1]')[['current_status', 'sex', 'age_group', 'hosp_yn','icu_yn','medcond_yn']]\r\n",
        "y = data.query('death_yn in [0, 1]')['death_yn']\r\n",
        "\r\n",
        "X_train, X_test, y_train, y_test = train_test_split(X, y, test_size=0.2, random_state=2)\r\n",
        "\r\n",
        "#Dimensions sanity check\r\n",
        "print('> X_train dimensions:', X_train.shape, '\\r\\n> X_test dimensions', X_test.shape, '\\r\\n> y_train dimensions', y_train.shape, '\\r\\n> y_test dimensions', y_test.shape)\r\n",
        "\r\n",
        "#Algorithms classes instanciation\r\n",
        "log_reg = LogisticRegression(solver='lbfgs', max_iter=1500) #lbfgs is default but to ensure it remains the same, \r\n",
        "                                                            #playing around with iterations, for convergence purposes\r\n",
        "svc = SVC()\r\n",
        "lin_svc = LinearSVC()\r\n",
        "rfc = RandomForestClassifier()\r\n",
        "knn = KNeighborsClassifier()\r\n",
        "gnb = GaussianNB()\r\n",
        "perceptron = Perceptron()\r\n",
        "sdg = SGDClassifier()\r\n",
        "dtc = DecisionTreeClassifier()\r\n",
        "\r\n",
        "#Algorithms fitting/learning\r\n",
        "log_reg.fit(X_train, y_train)\r\n",
        "svc.fit(X_train, y_train)\r\n",
        "lin_svc.fit(X_train, y_train)\r\n",
        "rfc.fit(X_train, y_train)\r\n",
        "knn.fit(X_train, y_train)\r\n",
        "gnb.fit(X_train, y_train)\r\n",
        "perceptron.fit(X_train, y_train)\r\n",
        "sdg.fit(X_train, y_train)\r\n",
        "dtc.fit(X_train, y_train)\r\n",
        "\r\n",
        "#Make predictions on the test dataset to evaluate the model\r\n",
        "#Note: Once we will use the classifier for a real case scenario, we will use the .predict_proba() method\r\n",
        "#in order to get an intuition about the level of risk for this patient\r\n",
        "y_pred = log_reg.predict(X_test)\r\n",
        "#Scoring the models\r\n",
        "print('> Classification report Logistic regression\\r\\n', metrics.classification_report(y_test, y_pred), '\\r\\n')\r\n",
        "\r\n",
        "y_pred = svc.predict(X_test)\r\n",
        "print('> Classification report Support Vector Machine (optim 1)\\r\\n', metrics.classification_report(y_test, y_pred), '\\r\\n')\r\n",
        "\r\n",
        "y_pred = lin_svc.predict(X_test)\r\n",
        "print('> Classification report Support Vector Machine (optim 2)\\r\\n', metrics.classification_report(y_test, y_pred), '\\r\\n')\r\n",
        "\r\n",
        "y_pred = rfc.predict(X_test)\r\n",
        "print('> Classification report Random Forest\\r\\n', metrics.classification_report(y_test, y_pred), '\\r\\n')\r\n",
        "\r\n",
        "y_pred = knn.predict(X_test)\r\n",
        "print('> Classification report k-Nearest Neighbours\\r\\n', metrics.classification_report(y_test, y_pred), '\\r\\n')\r\n",
        "\r\n",
        "y_pred = gnb.predict(X_test)\r\n",
        "print('> Classification report Gaussian Naïve Bayes\\r\\n', metrics.classification_report(y_test, y_pred), '\\r\\n')\r\n",
        "\r\n",
        "y_pred = perceptron.predict(X_test)\r\n",
        "print('> Classification report Perceptron\\r\\n', metrics.classification_report(y_test, y_pred), '\\r\\n')\r\n",
        "\r\n",
        "y_pred = sdg.predict(X_test)\r\n",
        "print('> Classification report Mixed Linear Models\\r\\n', metrics.classification_report(y_test, y_pred), '\\r\\n')\r\n",
        "\r\n",
        "y_pred = dtc.predict(X_test)\r\n",
        "print('> Classification report Decision Tree\\r\\n', metrics.classification_report(y_test, y_pred), '\\r\\n')\r\n",
        "\r\n",
        "#----------------------------------------------------"
      ],
      "outputs": [],
      "execution_count": null,
      "metadata": {
        "jupyter": {
          "source_hidden": false,
          "outputs_hidden": false
        },
        "nteract": {
          "transient": {
            "deleting": false
          }
        },
        "gather": {
          "logged": 1631968481404
        }
      }
    },
    {
      "cell_type": "code",
      "source": [
        "#FUNCTIONAL CONSIDERATIONS---------------------------\r\n",
        "#Verify our data are balanced\r\n",
        "print('> Data balance', data.query('death_yn in [0, 1]')['death_yn'].mean(), '\\r\\n')\r\n",
        "\r\n",
        "#Plot the ROC curve\r\n",
        "metrics.plot_roc_curve(log_reg, X_test, y_test)\r\n",
        "metrics.plot_roc_curve(svc, X_test, y_test)\r\n",
        "metrics.plot_roc_curve(lin_svc, X_test, y_test)\r\n",
        "metrics.plot_roc_curve(rfc, X_test, y_test)\r\n",
        "metrics.plot_roc_curve(knn, X_test, y_test)\r\n",
        "metrics.plot_roc_curve(gnb, X_test, y_test)\r\n",
        "metrics.plot_roc_curve(perceptron, X_test, y_test)\r\n",
        "metrics.plot_roc_curve(sdg, X_test, y_test)\r\n",
        "metrics.plot_roc_curve(dtc, X_test, y_test)\r\n",
        "\r\n",
        "#Precision: How many (which proportion) selected elements are pertinents\r\n",
        "#Recall: How many (which proportion) pertinent elements has been selected\r\n",
        "#----------------------------------------------------"
      ],
      "outputs": [],
      "execution_count": null,
      "metadata": {
        "jupyter": {
          "source_hidden": false,
          "outputs_hidden": false
        },
        "nteract": {
          "transient": {
            "deleting": false
          }
        },
        "gather": {
          "logged": 1631968574569
        }
      }
    },
    {
      "cell_type": "code",
      "source": [
        "#SAVE THE BEST MODEL---------------------------------\r\n",
        "#Save a serialized version of your models\r\n",
        "pkl.dump(dtc, open(r'./outputs/models/DecisionTreeClassifier.pkl', 'wb'))\r\n",
        "#----------------------------------------------------"
      ],
      "outputs": [],
      "execution_count": null,
      "metadata": {
        "jupyter": {
          "source_hidden": false,
          "outputs_hidden": false
        },
        "nteract": {
          "transient": {
            "deleting": false
          }
        },
        "gather": {
          "logged": 1631968579807
        }
      }
    },
    {
      "cell_type": "markdown",
      "source": [
        "### Register your model\r\n",
        "\r\n",
        "[From Microsoft documentation](https://docs.microsoft.com/en-us/python/api/azureml-core/azureml.core.model.model?view=azure-ml-py): Registering a model creates a logical container for the one or more files that make up your model. In addition to the content of the model file itself, a registered model also stores model metadata, including model description, tags, and framework information, that is useful when managing and deploying the model in your workspace. For example, with tags you can categorize your models and apply filters when listing models in your workspace. After registration, you can then download or deploy the registered model and receive all the files and metadata that were registered."
      ],
      "metadata": {
        "nteract": {
          "transient": {
            "deleting": false
          }
        }
      }
    },
    {
      "cell_type": "code",
      "source": [
        "#REGISTER YOUR MODEL---------------------------------\r\n",
        "model = Model.register(model_path=r'./outputs/models/DecisionTreeClassifier.pkl',\r\n",
        "                       model_name=\"DecisionTreeClassifier\",\r\n",
        "                       tags={'area': 'covid19', 'type': 'classification'},\r\n",
        "                       description='Survival to Covid-19 classification and estimation',\r\n",
        "                       workspace=ws)\r\n",
        "#---------------------------------------------------"
      ],
      "outputs": [],
      "execution_count": null,
      "metadata": {
        "jupyter": {
          "source_hidden": false,
          "outputs_hidden": false
        },
        "nteract": {
          "transient": {
            "deleting": false
          }
        },
        "gather": {
          "logged": 1631968584790
        }
      }
    }
  ],
  "metadata": {
    "kernelspec": {
      "name": "python3-azureml",
      "language": "python",
      "display_name": "Python 3.6 - AzureML"
    },
    "language_info": {
      "name": "python",
      "version": "3.6.9",
      "mimetype": "text/x-python",
      "codemirror_mode": {
        "name": "ipython",
        "version": 3
      },
      "pygments_lexer": "ipython3",
      "nbconvert_exporter": "python",
      "file_extension": ".py"
    },
    "kernel_info": {
      "name": "python3-azureml"
    },
    "microsoft": {
      "host": {
        "AzureML": {
          "notebookHasBeenCompleted": true
        }
      }
    },
    "nteract": {
      "version": "nteract-front-end@1.0.0"
    }
  },
  "nbformat": 4,
  "nbformat_minor": 2
}