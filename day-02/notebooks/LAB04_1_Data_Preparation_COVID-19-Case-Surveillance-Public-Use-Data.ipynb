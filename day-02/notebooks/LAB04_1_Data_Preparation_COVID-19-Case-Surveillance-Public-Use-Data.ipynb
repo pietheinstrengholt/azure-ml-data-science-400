{
  "cells": [
    {
      "cell_type": "markdown",
      "source": [
        "# Exercise 1 - Train a Classifier\r\n",
        "\r\n",
        "## Task 1 - Let's observe and prepare the data"
      ],
      "metadata": {
        "nteract": {
          "transient": {
            "deleting": false
          }
        }
      }
    },
    {
      "cell_type": "code",
      "source": [
        "#DEPENDENCIES----------------------------------------\r\n",
        "import subprocess\r\n",
        "import sys\r\n",
        "import os\r\n",
        "import pip\r\n",
        "import pandas as pd\r\n",
        "import numpy as np\r\n",
        "import matplotlib.pyplot as plt\r\n",
        "import seaborn as sns\r\n",
        "import requests\r\n",
        "import sklearn\r\n",
        "\r\n",
        "def installFromNotebook(package):\r\n",
        "    subprocess.check_call([sys.executable, \"-m\", \"pip\", \"install\", package])\r\n",
        "\r\n",
        "def upgradeFromNotebook(package):\r\n",
        "    subprocess.check_call([sys.executable, \"-m\", \"pip\", \"install\", \"--upgrade\", package])\r\n",
        "\r\n",
        "#Verification that the SDK is up to date\r\n",
        "upgradeFromNotebook(\"azureml-sdk\")\r\n",
        "import azureml.core\r\n",
        "from azureml.core import Dataset\r\n",
        "from azureml.core import Workspace\r\n",
        "ws = Workspace.from_config()\r\n",
        "\r\n",
        "#Installing other dependencies\r\n",
        "installFromNotebook(\"plotly\")\r\n",
        "import plotly.express as px\r\n",
        "import plotly.graph_objs as go\r\n",
        "import plotly.figure_factory as ff\r\n",
        "plt.style.use(\"classic\")\r\n",
        "\r\n",
        "#Create path to have outputs folder and outputs/models to store our models\r\n",
        "try:\r\n",
        "    os.makedirs(r'./outputs/models/')\r\n",
        "    os.makedirs(r'./sources/')\r\n",
        "except:\r\n",
        "     pass\r\n",
        "\r\n",
        "#Check on version and Workspace name\r\n",
        "print(\"Libs version control --\", \"Azure ML SDK Version:\", azureml.core.VERSION, \"Pandas:\", pd.__version__, \"pip:\", pip.__version__,\r\n",
        "\"seaborn:\", sns.__version__, 'Scikit-kearn:', sklearn.__version__, 'Workspace:', ws.name)\r\n",
        "#----------------------------------------------------"
      ],
      "outputs": [],
      "execution_count": null,
      "metadata": {
        "jupyter": {
          "source_hidden": false,
          "outputs_hidden": false
        },
        "nteract": {
          "transient": {
            "deleting": false
          }
        },
        "gather": {
          "logged": 1631968071807
        }
      }
    },
    {
      "cell_type": "markdown",
      "source": [
        "# Dataset overview: Covid-19 Case Surveillance Public Use Dataset\r\n",
        "\r\n",
        "## General considerations\r\n",
        "\r\n",
        "https://data.cdc.gov/Case-Surveillance/COVID-19-Case-Surveillance-Public-Use-Data/vbim-akqf\r\n",
        "\r\n",
        "The COVID-19 case surveillance system database includes individual-level data reported to U.S. states and autonomous reporting entities, including New York City and the District of Columbia (D.C.), as well as U.S. territories and states. On April 5, 2020, COVID-19 was added to the Nationally Notifiable Condition List and classified as “immediately notifiable, urgent (within 24 hours)” by a Council of State and Territorial Epidemiologists (CSTE) Interim Position Statement (Interim-20-ID-01). CSTE updated the position statement on August 5, 2020 to clarify the interpretation of antigen detection tests and serologic test results within the case classification. The statement also recommended that all states and territories enact laws to make COVID-19 reportable in their jurisdiction, and that jurisdictions conducting surveillance should submit case notifications to CDC. COVID-19 case surveillance data are collected by jurisdictions and shared voluntarily with CDC.\r\n",
        "\r\n",
        "For more information: wwwn.cdc.gov/nndss/conditions/coronavirus-disease-2019-covid-19/case-definition/2020/08/05/.\r\n",
        "\r\n",
        "The dataset contains 13.4 million rows of deidentified patient data (more than 3 Go). To run this lab smoothly, we will use an extract of 100.000 data point.\r\n",
        "\r\n",
        "## Data points description\r\n",
        "\r\n",
        "| Variable        | Description      | Source        | Values        | Type\t        | Calculation (if applicable)      |\r\n",
        "| ------|-----|-----|-----|-----|-----|\r\n",
        "| **cdc_report_dt**  \t| Date case was first reported to the CDC \t| Calculated \t| YYYY-MM-DD \t| Date \t| Deprecated; CDC recommends researchers use cdc_case_earliest_dt in time series and other analyses. This date was populated using the date at which a case record was first submitted to the database. If missing, then the report date entered on the case report form was used. If missing, then the date at which the case first appeared in the database was used. If none available, then left blank.  \t|\r\n",
        "| **cdc_case_earliest_dt**  \t| The earlier of the Clinical Date (date related to the illness or specimen collection) or the Date Received by CDC \t| Calculated \t| YYYY-MM-DD \t| Date \t| Cdc_case_earliest_dt uses the best available date from the set of dates related to illness/specimen collection and the set of dates related to when a case is reported. It is an option to end-users who need a date variable with optimized completeness. The logic of cdc_case_earliest_dt is to use the non-null date of one variable when the other is null and to use the earliest valid date when both dates are available.  If no date available, then left blank. \t|\r\n",
        "| **pos_spec_dt**  \t| Date of first positive specimen collection \t| Case Report Form \t| YYYY-MM-DD \t| Date \t|  \t|\r\n",
        "| **onset_dt**  \t| Date of symptom onset \t| Case Report Form \t| YYYY-MM-DD \t| Date \t|  \t|\r\n",
        "| **current_status**  \t| What is the current status of this person? \t| Case Report Form \t| Laboratory-confirmed case Probable case \t| String \t| Please see latest CSTE case definition for more information. \t|\r\n",
        "| **sex**  \t| Gender \t| Case Report Form \t| [Male - Female - Unknown - Other - Missing - NA] \t| String \t|  \t|\r\n",
        "| **age_group**  \t| Age group categories \t| Calculated \t| [0 - 9 Years - 10 - 19 Years - 20 - 39 Years - 40 - 49 Years - 50 - 59 Years - 60 - 69 Years - 70 - 79 Years - 80 + Years - Missing - NA] \t| String \t| The age group categorizations were populated using the age value that was reported on the case report form. Date of birth was used to fill in missing/unknown age values using the difference in time between date of birth and onset date. \t|\r\n",
        "| **race_ethnicity_combined**  \t| Race and Ethnicity (combined) \t| Calculated \t| [American Indian/Alaska Native, Non-Hispanic - Asian, Non-Hispanic - Black, Non-Hispanic - Multiple/Other, Non-Hispanic - Native Hawaiian/Other Pacific Islander, Non-Hispanic - White, Non-Hispanic - Hispanic/Latino - Unknown - Missing - NA] \t| String \t| If more than race was reported, race was categorized into multiple/other races. \t|\r\n",
        "| **hosp_yn**  \t| Was the patient hospitalized? \t| Case Report Form \t| [Yes - No - Unknown - Missing] \t| Character \t|  \t|\r\n",
        "| **icu_yn**  \t| Was the patient admitted to an intensive care unit (ICU)? \t| Case Report Form \t| [Yes - No - Unknown - Missing] \t| Character \t|  \t|\r\n",
        "| **death_yn**  \t| Did the patient die as a result of this illness? \t| Case Report Form \t| [Yes - No - Unknown - Missing] \t| Character \t|  \t|\r\n",
        "| **medcond_yn**  \t| Pre-existing medical conditions? \t| Case Report Form \t| [Yes - No - Unknown - Missing] \t| Character \t|  \t|"
      ],
      "metadata": {
        "nteract": {
          "transient": {
            "deleting": false
          }
        }
      }
    },
    {
      "cell_type": "code",
      "source": [
        "#LOAD DATA AND HAVE A FIRST OVERVIEW-----------------\r\n",
        "#Get a fraction of the dataset (to observe the first rows rapidly)\r\n",
        "Covid19_CSPUD_JSON = requests.get('https://data.cdc.gov/resource/vbim-akqf.json')\r\n",
        "data = pd.read_json(Covid19_CSPUD_JSON.text)\r\n",
        "#Observe top 5 lines\r\n",
        "data.head(5)\r\n",
        "#----------------------------------------------------"
      ],
      "outputs": [],
      "execution_count": null,
      "metadata": {
        "jupyter": {
          "source_hidden": false,
          "outputs_hidden": false
        },
        "nteract": {
          "transient": {
            "deleting": false
          }
        },
        "gather": {
          "logged": 1631968083978
        }
      }
    },
    {
      "cell_type": "code",
      "source": [
        "#DATA GENERAL DESCRIPTION-----------------\r\n",
        "#Get a bigger version of the dataset from GitHub (must be 'raw' version of the file and on a public repo)\r\n",
        "#url = 'https://raw.githubusercontent.com/solliancenet/azure-ml-data-science-400/blob/master/day-02/data/COVID-19_Case_Surveillance_Public_Use_Data_shuffled_100000.csv'\r\n",
        "url = 'https://raw.githubusercontent.com/pauldenoyes/tool-kit/master/COVID-19_Case_Surveillance_Public_Use_Data_shuffled_100000.csv'\r\n",
        "data = pd.read_csv(url, error_bad_lines=False)\r\n",
        "\r\n",
        "#View columns where many data is missing\r\n",
        "print('>> Null count by variable \\r\\n')\r\n",
        "print(data.isnull().sum())\r\n",
        "\r\n",
        "#In the data description, we have learned that 'cdc_report_dt' is deprecated\r\n",
        "#and 'pos_spec_dt' and 'onset_dt' are way too incomplete, in regard to a total\r\n",
        "#of 100.000 rows, to be used. So we remove those columns.\r\n",
        "data = data.drop(['cdc_report_dt', 'pos_spec_dt', 'onset_dt'], axis=1)\r\n",
        "\r\n",
        "#Now let's have a summarized look at our data\r\n",
        "print('\\r\\n>> Data general description \\r\\n')\r\n",
        "print(data.describe().transpose())\r\n",
        "#----------------------------------------------------"
      ],
      "outputs": [],
      "execution_count": null,
      "metadata": {
        "jupyter": {
          "source_hidden": false,
          "outputs_hidden": false
        },
        "nteract": {
          "transient": {
            "deleting": false
          }
        },
        "gather": {
          "logged": 1631968089284
        }
      }
    },
    {
      "cell_type": "code",
      "source": [
        "#OBSERVE DATA----------------------------------------\r\n",
        "\r\n",
        "##CONFIRMED CASES\r\n",
        "values = data['current_status'].value_counts().tolist()\r\n",
        "#Print unique status values\r\n",
        "print('\\r\\n\\t', '>> Unique cases status values:', data['current_status'].unique())\r\n",
        "#Use short names for those values for display purposes\r\n",
        "names = ['Confirmed', 'Probable']\r\n",
        "\r\n",
        "#Make pie chart\r\n",
        "fig = px.pie(\r\n",
        "    names=names,\r\n",
        "    values=values,\r\n",
        "    title=\"Case Status Pie Chart\",\r\n",
        "    color_discrete_sequence=px.colors.sequential.RdBu,\r\n",
        ")\r\n",
        "#Display the pie chart\r\n",
        "fig.show()\r\n",
        "\r\n",
        "##GENDER DISTRIBUTION\r\n",
        "values = data['sex'].value_counts().tolist()\r\n",
        "print('\\r\\n\\t', '>> Unique cases gender values:', data['sex'].unique())\r\n",
        "names = ['Female', 'Male', 'Unknown', 'Missing', 'Other']\r\n",
        "fig = px.pie(\r\n",
        "    names=names,\r\n",
        "    values=values,\r\n",
        "    title=\"Gender Status Distribution\",\r\n",
        "    color_discrete_sequence=px.colors.sequential.Bluyl_r,\r\n",
        ")\r\n",
        "fig.show()\r\n",
        "\r\n",
        "##AGE GROUP DISTRIBUTION\r\n",
        "values = data['age_group'].value_counts().tolist()\r\n",
        "print('\\r\\n\\t', '>> Age beans:', data['age_group'].unique())\r\n",
        "names = ['20 - 29 Years', '30 - 39 Years', '40 - 49 Years', '50 - 59 Years', '60 - 69 Years', '10 - 19 Years', '70 - 79 Years', '80+ Years', '0 - 9 Years', 'Unknown']\r\n",
        "fig = px.bar(\r\n",
        "    x=names,\r\n",
        "    y=values,\r\n",
        "    title=\"Age Group Distribution\",\r\n",
        "    labels={\r\n",
        "        'x': 'Age Group',\r\n",
        "        'y': 'Number of Patients'\r\n",
        "    },\r\n",
        "    color=values\r\n",
        ")\r\n",
        "fig.show()\r\n",
        "\r\n",
        "#ETHNICITY\r\n",
        "values = data['race_ethnicity_combined'].value_counts().tolist()\r\n",
        "print('\\r\\n\\t', '>> Race and ethnicity (combined):', data['race_ethnicity_combined'].unique())\r\n",
        "names = ['Unkown', 'White, Non-Hispanic', 'Hispanic/Latino', 'Black, Non-Hispanic', 'Missing', 'Multiple/Other, Non-Hispanic', 'Asian, Non-Hispanic', 'American Indian/Alaska Native, Non-Hispanic', 'Native Hawaiian/Other Pacific Islancer, Non-Hispanic']\r\n",
        "fig = px.pie(\r\n",
        "    names=names,\r\n",
        "    values=values,\r\n",
        "    title=\"Distribution of Races and Ethinicities \",\r\n",
        "    color_discrete_sequence=px.colors.sequential.Electric,\r\n",
        ")\r\n",
        "fig.show()\r\n",
        "\r\n",
        "#DEATH STATUS BY GENDER\r\n",
        "plt.figure(figsize=(9, 7))\r\n",
        "plt.style.use(\"fivethirtyeight\")\r\n",
        "sns.countplot(y=\"death_yn\", hue ='sex', data=data[data['sex'].isin(['Male', 'Female', 'Other'])])\r\n",
        "plt.xlabel(\"Count\")\r\n",
        "plt.ylabel(\"Death Status\")\r\n",
        "plt.title('Death Status by Gender')\r\n",
        "plt.show()\r\n",
        "#----------------------------------------------------"
      ],
      "outputs": [],
      "execution_count": null,
      "metadata": {
        "jupyter": {
          "source_hidden": false,
          "outputs_hidden": false
        },
        "nteract": {
          "transient": {
            "deleting": false
          }
        },
        "gather": {
          "logged": 1631968096187
        }
      }
    },
    {
      "cell_type": "code",
      "source": [
        "#ENCODE DATA FOR THE MACHINE (Categorical to numeric)\r\n",
        "from sklearn.preprocessing import LabelEncoder\r\n",
        "lb_encoder = LabelEncoder()\r\n",
        "data['current_status'] = lb_encoder.fit_transform(data['current_status'])\r\n",
        "data['age_group'] = lb_encoder.fit_transform(data['age_group'])\r\n",
        "data['race_ethnicity_combined'] = lb_encoder.fit_transform(data['race_ethnicity_combined'])\r\n",
        "data['sex'] = lb_encoder.fit_transform(data['sex'])\r\n",
        "data['hosp_yn'] = lb_encoder.fit_transform(data['hosp_yn'])\r\n",
        "data['icu_yn'] = lb_encoder.fit_transform(data['icu_yn'])\r\n",
        "data['death_yn'] = lb_encoder.fit_transform(data['death_yn'])\r\n",
        "data['medcond_yn'] = lb_encoder.fit_transform(data['medcond_yn'])\r\n",
        "#Store exploitable data variable to use it in other NoteBooks\r\n",
        "%store data\r\n",
        "data.head(5)\r\n",
        "#----------------------------------------------------"
      ],
      "outputs": [],
      "execution_count": null,
      "metadata": {
        "jupyter": {
          "source_hidden": false,
          "outputs_hidden": false
        },
        "nteract": {
          "transient": {
            "deleting": false
          }
        },
        "gather": {
          "logged": 1631968100945
        }
      }
    }
  ],
  "metadata": {
    "kernelspec": {
      "name": "python3-azureml",
      "language": "python",
      "display_name": "Python 3.6 - AzureML"
    },
    "language_info": {
      "name": "python",
      "version": "3.6.9",
      "mimetype": "text/x-python",
      "codemirror_mode": {
        "name": "ipython",
        "version": 3
      },
      "pygments_lexer": "ipython3",
      "nbconvert_exporter": "python",
      "file_extension": ".py"
    },
    "kernel_info": {
      "name": "python3-azureml"
    },
    "nteract": {
      "version": "nteract-front-end@1.0.0"
    },
    "microsoft": {
      "host": {
        "AzureML": {
          "notebookHasBeenCompleted": true
        }
      }
    }
  },
  "nbformat": 4,
  "nbformat_minor": 2
}
